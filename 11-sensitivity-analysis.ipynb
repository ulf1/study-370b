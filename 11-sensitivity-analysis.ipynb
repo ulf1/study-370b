{
 "cells": [
  {
   "cell_type": "code",
   "execution_count": 1,
   "id": "e6fa8a1e-194c-444a-b4f1-944564a4d8e7",
   "metadata": {},
   "outputs": [],
   "source": [
    "import pandas as pd\n",
    "import numpy as np\n",
    "import joblib\n",
    "import gc\n",
    "import scipy.stats\n",
    "\n",
    "import matplotlib.pyplot as plt\n",
    "%matplotlib inline"
   ]
  },
  {
   "cell_type": "markdown",
   "id": "71ac863f-1ae6-436e-a1a1-fdf9d74da853",
   "metadata": {},
   "source": [
    "## Load Dataset"
   ]
  },
  {
   "cell_type": "code",
   "execution_count": 2,
   "id": "4ae16e62-e495-49f6-a149-16a01ccd132a",
   "metadata": {},
   "outputs": [
    {
     "data": {
      "text/plain": [
       "0"
      ]
     },
     "execution_count": 2,
     "metadata": {},
     "output_type": "execute_result"
    }
   ],
   "source": [
    "# Load the raw data\n",
    "df = pd.read_csv(\"data/ratings.csv\", encoding=\"ISO-8859-1\")\n",
    "# df = df[:20]\n",
    "\n",
    "# Input- & Output-Variables\n",
    "y1mos = df[\"MOS_Complexity\"].values\n",
    "y1std = df[\"Std_Complexity\"].values\n",
    "y2mos = df[\"MOS_Understandability\"].values\n",
    "y2std = df[\"Std_Understandability\"].values\n",
    "y3mos = df[\"MOS_Lexical_difficulty\"].values\n",
    "y3std = df[\"Std_Lexical_difficulty\"].values\n",
    "# free memory\n",
    "del df\n",
    "gc.collect()"
   ]
  },
  {
   "cell_type": "markdown",
   "id": "968cf768-f9c4-4e5a-8295-139ada8e77d2",
   "metadata": {},
   "source": [
    "## Lead Precomputed Features"
   ]
  },
  {
   "cell_type": "code",
   "execution_count": 3,
   "id": "455234df-ff32-45a4-97be-48e28d128b6d",
   "metadata": {},
   "outputs": [],
   "source": [
    "with open('./data/preprocessed.npy', 'rb') as fp:\n",
    "    feats1 = np.load(fp)\n",
    "    feats2 = np.load(fp)\n",
    "    feats3 = np.load(fp)\n",
    "    feats4 = np.load(fp)\n",
    "    feats5 = np.load(fp)\n",
    "    feats6 = np.load(fp)\n",
    "    feats7 = np.load(fp)\n",
    "    feats8 = np.load(fp)\n",
    "    feats9 = np.load(fp)"
   ]
  },
  {
   "cell_type": "code",
   "execution_count": 4,
   "id": "4ae2c504-5a9c-4daf-a8fc-273073294294",
   "metadata": {},
   "outputs": [
    {
     "data": {
      "text/plain": [
       "((1000, 384), (1000, 21), (1000, 16), (1000, 47), (1000, 3), (1000, 20))"
      ]
     },
     "execution_count": 4,
     "metadata": {},
     "output_type": "execute_result"
    }
   ],
   "source": [
    "feats1.shape, feats2.shape, feats3.shape, feats4.shape, feats5.shape, feats6.shape"
   ]
  },
  {
   "cell_type": "code",
   "execution_count": 5,
   "id": "113b6641-a573-4078-80ba-616d0693d4dc",
   "metadata": {},
   "outputs": [],
   "source": [
    "xrnd1 = np.random.random(size=feats1.shape)\n",
    "xrnd1 = (xrnd1.T / xrnd1.sum(axis=1)).T\n",
    "\n",
    "xrnd2 = np.random.random(size=feats2.shape)\n",
    "xrnd2 = (xrnd2.T / xrnd2.sum(axis=1)).T\n",
    "\n",
    "xrnd3 = np.random.random(size=feats3.shape)\n",
    "xrnd3 = (xrnd3.T / xrnd3.sum(axis=1)).T\n",
    "\n",
    "xrnd4 = np.random.random(size=feats4.shape)\n",
    "xrnd4 = (xrnd4.T / xrnd4.sum(axis=1)).T\n",
    "\n",
    "xrnd5 = np.random.random(size=feats5.shape)\n",
    "xrnd5 = (xrnd5.T / xrnd5.sum(axis=1)).T\n",
    "\n",
    "xrnd6 = np.random.random(size=feats6.shape)\n",
    "xrnd6 = (xrnd6.T / xrnd6.sum(axis=1)).T\n",
    "\n",
    "xrnd7 = np.random.random(size=feats7.shape)\n",
    "xrnd7 = (xrnd7.T / xrnd7.sum(axis=1)).T\n",
    "\n",
    "xrnd8 = np.random.random(size=feats8.shape)\n",
    "xrnd8 = (xrnd8.T / xrnd8.sum(axis=1)).T\n",
    "\n",
    "xrnd9 = np.random.random(size=feats9.shape)\n",
    "xrnd9 = (xrnd9.T / xrnd9.sum(axis=1)).T"
   ]
  },
  {
   "cell_type": "code",
   "execution_count": 6,
   "id": "1c0df829-9729-4b1e-8567-b7539cc9cd5c",
   "metadata": {},
   "outputs": [
    {
     "data": {
      "text/plain": [
       "((1000, 503),\n",
       " (1000, 503),\n",
       " (1000, 503),\n",
       " (1000, 503),\n",
       " (1000, 503),\n",
       " (1000, 503),\n",
       " (1000, 503),\n",
       " (1000, 503),\n",
       " (1000, 503),\n",
       " (1000, 503))"
      ]
     },
     "execution_count": 6,
     "metadata": {},
     "output_type": "execute_result"
    }
   ],
   "source": [
    "xinputs0 = np.hstack([feats1, feats2, feats3, feats4, feats5, feats6, feats7, feats8, feats9])\n",
    "xinputs1 = np.hstack([xrnd1, feats2, feats3, feats4, feats5, feats6, feats7, feats8, feats9])\n",
    "xinputs2 = np.hstack([feats1, xrnd2, feats3, feats4, feats5, feats6, feats7, feats8, feats9])\n",
    "xinputs3 = np.hstack([feats1, feats2, xrnd3, feats4, feats5, feats6, feats7, feats8, feats9])\n",
    "xinputs4 = np.hstack([feats1, feats2, feats3, xrnd4, feats5, feats6, feats7, feats8, feats9])\n",
    "xinputs5 = np.hstack([feats1, feats2, feats3, feats4, xrnd5, feats6, feats7, feats8, feats9])\n",
    "xinputs6 = np.hstack([feats1, feats2, feats3, feats4, feats5, xrnd6, feats7, feats8, feats9])\n",
    "\n",
    "xinputs7 = np.hstack([feats1, feats2, feats3, feats4, feats5, feats6, xrnd7, feats8, feats9])\n",
    "xinputs8 = np.hstack([feats1, feats2, feats3, feats4, feats5, feats6, feats7, xrnd8, feats9])\n",
    "xinputs9 = np.hstack([feats1, feats2, feats3, feats4, feats5, feats6, feats7, feats8, xrnd9])\n",
    "\n",
    "\n",
    "(\n",
    "    xinputs0.shape, xinputs1.shape, xinputs2.shape, xinputs3.shape, \n",
    "    xinputs4.shape, xinputs5.shape, xinputs6.shape, xinputs7.shape,\n",
    "    xinputs8.shape, xinputs9.shape\n",
    ")"
   ]
  },
  {
   "cell_type": "markdown",
   "id": "f5775e2c-5dc4-4c1f-a8c2-baf90916c82d",
   "metadata": {},
   "source": [
    "## Load Model"
   ]
  },
  {
   "cell_type": "code",
   "execution_count": 7,
   "id": "cbd14c83-d392-4aeb-90a7-afabc708f9ad",
   "metadata": {},
   "outputs": [],
   "source": [
    "model = joblib.load('./models/model1-rf/model.joblib')"
   ]
  },
  {
   "cell_type": "markdown",
   "id": "7dafd02a-fd35-47da-b6e6-2e29305687b8",
   "metadata": {},
   "source": [
    "## Inference"
   ]
  },
  {
   "cell_type": "code",
   "execution_count": 8,
   "id": "6e827016-eb36-4afa-aa1c-1207019e39f4",
   "metadata": {},
   "outputs": [],
   "source": [
    "y0 = model.predict(xinputs0)\n",
    "y1 = model.predict(xinputs1)\n",
    "y2 = model.predict(xinputs2)\n",
    "y3 = model.predict(xinputs3)\n",
    "y4 = model.predict(xinputs4)\n",
    "y5 = model.predict(xinputs5)\n",
    "y6 = model.predict(xinputs6)\n",
    "y7 = model.predict(xinputs7)\n",
    "y8 = model.predict(xinputs8)\n",
    "y9 = model.predict(xinputs9)"
   ]
  },
  {
   "cell_type": "markdown",
   "id": "a16f017b-1fae-4588-bb3a-266bdb0cadd3",
   "metadata": {},
   "source": [
    "## Sensitivity analysis on loss function"
   ]
  },
  {
   "cell_type": "code",
   "execution_count": 9,
   "id": "70b9f41f-aa57-46e8-8d09-1499b0036b5c",
   "metadata": {},
   "outputs": [
    {
     "name": "stdout",
     "output_type": "stream",
     "text": [
      " Complexity | Understandability | Lexical\n",
      "  semantic: 0.2174  0.2874  0.3426\n",
      "    syntax: 0.0039  0.0043  0.0049\n",
      "  pos tags: 0.0157  0.0160  0.0179\n",
      "morph tags: 0.0078  0.0079  0.0081\n",
      " phonetics: 0.0008  0.0011  0.0012\n",
      " morphemes: 0.0038  0.0050  0.0055\n",
      "lemma freq: 0.0211  0.0226  0.0354\n",
      "txt length: 2.3412  1.5246  2.1846\n",
      "bigram frq: 0.0203  0.0199  0.0229\n"
     ]
    }
   ],
   "source": [
    "l0 = np.power(np.c_[y1mos, y2mos, y3mos] - y0, 2).mean(axis=0)\n",
    "l1 = np.power(np.c_[y1mos, y2mos, y3mos] - y1, 2).mean(axis=0)\n",
    "l2 = np.power(np.c_[y1mos, y2mos, y3mos] - y2, 2).mean(axis=0)\n",
    "l3 = np.power(np.c_[y1mos, y2mos, y3mos] - y3, 2).mean(axis=0)\n",
    "l4 = np.power(np.c_[y1mos, y2mos, y3mos] - y4, 2).mean(axis=0)\n",
    "l5 = np.power(np.c_[y1mos, y2mos, y3mos] - y5, 2).mean(axis=0)\n",
    "l6 = np.power(np.c_[y1mos, y2mos, y3mos] - y6, 2).mean(axis=0)\n",
    "l7 = np.power(np.c_[y1mos, y2mos, y3mos] - y7, 2).mean(axis=0)\n",
    "l8 = np.power(np.c_[y1mos, y2mos, y3mos] - y8, 2).mean(axis=0)\n",
    "l9 = np.power(np.c_[y1mos, y2mos, y3mos] - y9, 2).mean(axis=0)\n",
    "\n",
    "print(\" Complexity | Understandability | Lexical\")\n",
    "print(\"  semantic: \" + '  '.join([f\"{x:6.4f}\" for x in l1 - l0]))\n",
    "print(\"    syntax: \" + '  '.join([f\"{x:6.4f}\" for x in l2 - l0]))\n",
    "print(\"  pos tags: \" + '  '.join([f\"{x:6.4f}\" for x in l3 - l0]))\n",
    "print(\"morph tags: \" + '  '.join([f\"{x:6.4f}\" for x in l4 - l0]))\n",
    "print(\" phonetics: \" + '  '.join([f\"{x:6.4f}\" for x in l5 - l0]))\n",
    "print(\" morphemes: \" + '  '.join([f\"{x:6.4f}\" for x in l6 - l0]))\n",
    "print(\"lemma freq: \" + '  '.join([f\"{x:6.4f}\" for x in l7 - l0]))\n",
    "print(\"txt length: \" + '  '.join([f\"{x:6.4f}\" for x in l8 - l0]))\n",
    "print(\"bigram frq: \" + '  '.join([f\"{x:6.4f}\" for x in l9 - l0]))"
   ]
  },
  {
   "cell_type": "code",
   "execution_count": 10,
   "id": "c56e9dc2-8856-4d9a-a602-0c2a1004fa2a",
   "metadata": {},
   "outputs": [
    {
     "name": "stdout",
     "output_type": "stream",
     "text": [
      " Complexity | Understandability | Lexical\n",
      "  semantic: 0.1510  0.1795  0.1970\n",
      "    syntax: 0.0035  0.0035  0.0033\n",
      "  pos tags: 0.0110  0.0100  0.0115\n",
      "morph tags: 0.0058  0.0056  0.0054\n",
      " phonetics: 0.0005  0.0010  0.0009\n",
      " morphemes: 0.0030  0.0037  0.0039\n",
      "lemma freq: 0.0221  0.0228  0.0264\n",
      "txt length: 0.8701  0.6453  0.8414\n",
      "bigram frq: 0.0146  0.0130  0.0162\n"
     ]
    }
   ],
   "source": [
    "l0 = np.abs(np.c_[y1mos, y2mos, y3mos] - y0).mean(axis=0)\n",
    "l1 = np.abs(np.c_[y1mos, y2mos, y3mos] - y1).mean(axis=0)\n",
    "l2 = np.abs(np.c_[y1mos, y2mos, y3mos] - y2).mean(axis=0)\n",
    "l3 = np.abs(np.c_[y1mos, y2mos, y3mos] - y3).mean(axis=0)\n",
    "l4 = np.abs(np.c_[y1mos, y2mos, y3mos] - y4).mean(axis=0)\n",
    "l5 = np.abs(np.c_[y1mos, y2mos, y3mos] - y5).mean(axis=0)\n",
    "l6 = np.abs(np.c_[y1mos, y2mos, y3mos] - y6).mean(axis=0)\n",
    "l7 = np.abs(np.c_[y1mos, y2mos, y3mos] - y7).mean(axis=0)\n",
    "l8 = np.abs(np.c_[y1mos, y2mos, y3mos] - y8).mean(axis=0)\n",
    "l9 = np.abs(np.c_[y1mos, y2mos, y3mos] - y9).mean(axis=0)\n",
    "\n",
    "print(\" Complexity | Understandability | Lexical\")\n",
    "print(\"  semantic: \" + '  '.join([f\"{x:6.4f}\" for x in l1 - l0]))\n",
    "print(\"    syntax: \" + '  '.join([f\"{x:6.4f}\" for x in l2 - l0]))\n",
    "print(\"  pos tags: \" + '  '.join([f\"{x:6.4f}\" for x in l3 - l0]))\n",
    "print(\"morph tags: \" + '  '.join([f\"{x:6.4f}\" for x in l4 - l0]))\n",
    "print(\" phonetics: \" + '  '.join([f\"{x:6.4f}\" for x in l5 - l0]))\n",
    "print(\" morphemes: \" + '  '.join([f\"{x:6.4f}\" for x in l6 - l0]))\n",
    "print(\"lemma freq: \" + '  '.join([f\"{x:6.4f}\" for x in l7 - l0]))\n",
    "print(\"txt length: \" + '  '.join([f\"{x:6.4f}\" for x in l8 - l0]))\n",
    "print(\"bigram frq: \" + '  '.join([f\"{x:6.4f}\" for x in l9 - l0]))"
   ]
  },
  {
   "cell_type": "markdown",
   "id": "f71f2174-5d20-457a-aa1c-09e0b6b14bba",
   "metadata": {},
   "source": [
    "## Feature Importance"
   ]
  },
  {
   "cell_type": "code",
   "execution_count": 11,
   "id": "af44c8ba-24a4-4029-9f17-6b4076a52d78",
   "metadata": {},
   "outputs": [
    {
     "data": {
      "text/html": [
       "<div>\n",
       "<style scoped>\n",
       "    .dataframe tbody tr th:only-of-type {\n",
       "        vertical-align: middle;\n",
       "    }\n",
       "\n",
       "    .dataframe tbody tr th {\n",
       "        vertical-align: top;\n",
       "    }\n",
       "\n",
       "    .dataframe thead th {\n",
       "        text-align: right;\n",
       "    }\n",
       "</style>\n",
       "<table border=\"1\" class=\"dataframe\">\n",
       "  <thead>\n",
       "    <tr style=\"text-align: right;\">\n",
       "      <th></th>\n",
       "      <th>fi</th>\n",
       "    </tr>\n",
       "  </thead>\n",
       "  <tbody>\n",
       "    <tr>\n",
       "      <th>length_1</th>\n",
       "      <td>0.604296</td>\n",
       "    </tr>\n",
       "    <tr>\n",
       "      <th>sbert_156</th>\n",
       "      <td>0.017053</td>\n",
       "    </tr>\n",
       "    <tr>\n",
       "      <th>frequency_2</th>\n",
       "      <td>0.015181</td>\n",
       "    </tr>\n",
       "    <tr>\n",
       "      <th>sbert_173</th>\n",
       "      <td>0.009544</td>\n",
       "    </tr>\n",
       "    <tr>\n",
       "      <th>sbert_69</th>\n",
       "      <td>0.007764</td>\n",
       "    </tr>\n",
       "    <tr>\n",
       "      <th>sbert_329</th>\n",
       "      <td>0.007674</td>\n",
       "    </tr>\n",
       "    <tr>\n",
       "      <th>sbert_68</th>\n",
       "      <td>0.007444</td>\n",
       "    </tr>\n",
       "    <tr>\n",
       "      <th>sbert_211</th>\n",
       "      <td>0.006375</td>\n",
       "    </tr>\n",
       "    <tr>\n",
       "      <th>bigram_0</th>\n",
       "      <td>0.005832</td>\n",
       "    </tr>\n",
       "    <tr>\n",
       "      <th>sbert_265</th>\n",
       "      <td>0.005737</td>\n",
       "    </tr>\n",
       "    <tr>\n",
       "      <th>postag_11</th>\n",
       "      <td>0.005643</td>\n",
       "    </tr>\n",
       "    <tr>\n",
       "      <th>sbert_93</th>\n",
       "      <td>0.005414</td>\n",
       "    </tr>\n",
       "    <tr>\n",
       "      <th>sbert_228</th>\n",
       "      <td>0.005333</td>\n",
       "    </tr>\n",
       "    <tr>\n",
       "      <th>sbert_193</th>\n",
       "      <td>0.005054</td>\n",
       "    </tr>\n",
       "    <tr>\n",
       "      <th>sbert_287</th>\n",
       "      <td>0.004726</td>\n",
       "    </tr>\n",
       "    <tr>\n",
       "      <th>sbert_260</th>\n",
       "      <td>0.004495</td>\n",
       "    </tr>\n",
       "    <tr>\n",
       "      <th>length_0</th>\n",
       "      <td>0.004264</td>\n",
       "    </tr>\n",
       "    <tr>\n",
       "      <th>sbert_363</th>\n",
       "      <td>0.004213</td>\n",
       "    </tr>\n",
       "    <tr>\n",
       "      <th>sbert_369</th>\n",
       "      <td>0.003471</td>\n",
       "    </tr>\n",
       "    <tr>\n",
       "      <th>morphtag_37</th>\n",
       "      <td>0.003366</td>\n",
       "    </tr>\n",
       "  </tbody>\n",
       "</table>\n",
       "</div>"
      ],
      "text/plain": [
       "                   fi\n",
       "length_1     0.604296\n",
       "sbert_156    0.017053\n",
       "frequency_2  0.015181\n",
       "sbert_173    0.009544\n",
       "sbert_69     0.007764\n",
       "sbert_329    0.007674\n",
       "sbert_68     0.007444\n",
       "sbert_211    0.006375\n",
       "bigram_0     0.005832\n",
       "sbert_265    0.005737\n",
       "postag_11    0.005643\n",
       "sbert_93     0.005414\n",
       "sbert_228    0.005333\n",
       "sbert_193    0.005054\n",
       "sbert_287    0.004726\n",
       "sbert_260    0.004495\n",
       "length_0     0.004264\n",
       "sbert_363    0.004213\n",
       "sbert_369    0.003471\n",
       "morphtag_37  0.003366"
      ]
     },
     "execution_count": 11,
     "metadata": {},
     "output_type": "execute_result"
    }
   ],
   "source": [
    "xnames = [f\"sbert_{j}\" for j in range(feats1.shape[1])] \\\n",
    "    + [f\"nodedist_{j}\" for j in range(feats2.shape[1])] \\\n",
    "    + [f\"postag_{j}\" for j in range(feats3.shape[1])] \\\n",
    "    + [f\"morphtag_{j}\" for j in range(feats4.shape[1])] \\\n",
    "    + [f\"consonant_{j}\" for j in range(feats5.shape[1])] \\\n",
    "    + [f\"lexemes_{j}\" for j in range(feats6.shape[1])] \\\n",
    "    + [f\"frequency_{j}\" for j in range(feats7.shape[1])] \\\n",
    "    + [f\"length_{j}\" for j in range(feats8.shape[1])] \\\n",
    "    + [f\"bigram_{j}\" for j in range(feats9.shape[1])] \n",
    "\n",
    "df_fi = pd.DataFrame(index=xnames, data=model.feature_importances_, columns=[\"fi\"])\n",
    "df_fi = df_fi.sort_values(by=\"fi\", ascending=False)\n",
    "df_fi.head(20)"
   ]
  },
  {
   "cell_type": "markdown",
   "id": "88937169-ad04-460b-80ea-b7cada2ae27c",
   "metadata": {},
   "source": [
    "## Scores vs Text Length"
   ]
  },
  {
   "cell_type": "code",
   "execution_count": 12,
   "id": "ce0bd7c6-402e-4018-a596-c8709d7dc6f7",
   "metadata": {},
   "outputs": [],
   "source": [
    "# # length_0\n",
    "# plt.scatter(feats8[:,0], y1mos, marker='.');\n",
    "# # plt.scatter(feats8[:,0], y2mos, marker='*');\n",
    "# # plt.scatter(feats8[:,0], y3mos, marker=',');\n",
    "# plt.ylabel(\"complexity scores [1-7]\");\n",
    "# plt.xlabel(\"log of the number of words per sentence\");"
   ]
  },
  {
   "cell_type": "code",
   "execution_count": 13,
   "id": "48c58d62-3aa5-47c0-b8cf-76ddaa65fbb1",
   "metadata": {},
   "outputs": [
    {
     "data": {
      "image/png": "[encoded data removed]",
      "text/plain": [
       "<Figure size 576x432 with 1 Axes>"
      ]
     },
     "metadata": {
      "needs_background": "light"
     },
     "output_type": "display_data"
    }
   ],
   "source": [
    "plt.figure(figsize=(4,3), dpi=144);\n",
    "plt.scatter(feats8[:,1], y1mos, marker='.');\n",
    "# plt.scatter(feats8[:,1], y2mos, marker='.');\n",
    "# plt.scatter(feats8[:,1], y3mos, marker='.');\n",
    "plt.ylabel(\"complexity scores\");\n",
    "plt.xlabel(\"log of the number of characters per sentence\");"
   ]
  },
  {
   "cell_type": "code",
   "execution_count": 14,
   "id": "f6d8c139-2fe1-4d08-aa06-074bce2b6b73",
   "metadata": {},
   "outputs": [
    {
     "data": {
      "text/plain": [
       "(0.7774113943170912, 3.6264763898258184e-203)"
      ]
     },
     "execution_count": 14,
     "metadata": {},
     "output_type": "execute_result"
    }
   ],
   "source": [
    "scipy.stats.pearsonr(feats8[:,1], y1mos)"
   ]
  },
  {
   "cell_type": "markdown",
   "id": "d9b6f476-c139-4a52-955f-13e01fc142b2",
   "metadata": {},
   "source": [
    "## Correlations"
   ]
  },
  {
   "cell_type": "code",
   "execution_count": 15,
   "id": "84f3d11d-7695-4f8f-ac79-4b8019ca0e0a",
   "metadata": {},
   "outputs": [
    {
     "data": {
      "text/plain": [
       "array([[1.        , 0.89598348, 0.90518689],\n",
       "       [0.89598348, 1.        , 0.93461015],\n",
       "       [0.90518689, 0.93461015, 1.        ]])"
      ]
     },
     "execution_count": 15,
     "metadata": {},
     "output_type": "execute_result"
    }
   ],
   "source": [
    "np.corrcoef(np.c_[y1mos, y2mos, y3mos], rowvar=False)"
   ]
  },
  {
   "cell_type": "code",
   "execution_count": 16,
   "id": "07807175-a538-4e90-a37e-8ebf6388c023",
   "metadata": {},
   "outputs": [
    {
     "data": {
      "text/plain": [
       "array([[1.        , 0.99054016, 0.98847129],\n",
       "       [0.99054016, 1.        , 0.99676534],\n",
       "       [0.98847129, 0.99676534, 1.        ]])"
      ]
     },
     "execution_count": 16,
     "metadata": {},
     "output_type": "execute_result"
    }
   ],
   "source": [
    "np.corrcoef(y0, rowvar=False)"
   ]
  },
  {
   "cell_type": "code",
   "execution_count": 17,
   "id": "6d8b9c29-2374-4318-8509-e5adb0702e6c",
   "metadata": {},
   "outputs": [
    {
     "data": {
      "text/plain": [
       "array([[-0.    ,  0.0066,  0.004 ],\n",
       "       [ 0.0066, -0.    ,  0.0012],\n",
       "       [ 0.004 ,  0.0012,  0.    ]])"
      ]
     },
     "execution_count": 17,
     "metadata": {},
     "output_type": "execute_result"
    }
   ],
   "source": [
    "# semantic\n",
    "(np.corrcoef(y1, rowvar=False) - np.corrcoef(y0, rowvar=False)).round(4)"
   ]
  },
  {
   "cell_type": "code",
   "execution_count": 18,
   "id": "2fbf087e-7707-49e6-9530-29c387fd9823",
   "metadata": {},
   "outputs": [
    {
     "data": {
      "text/plain": [
       "array([[0.    , 0.0001, 0.0001],\n",
       "       [0.0001, 0.    , 0.    ],\n",
       "       [0.0001, 0.    , 0.    ]])"
      ]
     },
     "execution_count": 18,
     "metadata": {},
     "output_type": "execute_result"
    }
   ],
   "source": [
    "# syntactic (node vs token distance)\n",
    "(np.corrcoef(y2, rowvar=False) - np.corrcoef(y0, rowvar=False)).round(4)"
   ]
  },
  {
   "cell_type": "code",
   "execution_count": 19,
   "id": "0ba5fff9-8f08-4055-995a-ca53c1bb46ab",
   "metadata": {},
   "outputs": [
    {
     "data": {
      "text/plain": [
       "array([[ 0.    , -0.0004, -0.0005],\n",
       "       [-0.0004, -0.    ,  0.0001],\n",
       "       [-0.0005,  0.0001, -0.    ]])"
      ]
     },
     "execution_count": 19,
     "metadata": {},
     "output_type": "execute_result"
    }
   ],
   "source": [
    "# pos tags\n",
    "(np.corrcoef(y3, rowvar=False) - np.corrcoef(y0, rowvar=False)).round(4)"
   ]
  },
  {
   "cell_type": "code",
   "execution_count": 20,
   "id": "9e937ae1-93e9-4ab6-88d2-6353b90009e9",
   "metadata": {},
   "outputs": [
    {
     "data": {
      "text/plain": [
       "array([[-0.    ,  0.0002,  0.    ],\n",
       "       [ 0.0002,  0.    ,  0.0001],\n",
       "       [ 0.    ,  0.0001,  0.    ]])"
      ]
     },
     "execution_count": 20,
     "metadata": {},
     "output_type": "execute_result"
    }
   ],
   "source": [
    "# morph tags\n",
    "(np.corrcoef(y4, rowvar=False) - np.corrcoef(y0, rowvar=False)).round(4)"
   ]
  },
  {
   "cell_type": "code",
   "execution_count": 21,
   "id": "124ad785-d337-453b-a50e-01e627c0d154",
   "metadata": {},
   "outputs": [
    {
     "data": {
      "text/plain": [
       "array([[ 0.    , -0.0001, -0.0001],\n",
       "       [-0.0001,  0.    , -0.    ],\n",
       "       [-0.0001, -0.    ,  0.    ]])"
      ]
     },
     "execution_count": 21,
     "metadata": {},
     "output_type": "execute_result"
    }
   ],
   "source": [
    "# phonetics (consonant clusters)\n",
    "(np.corrcoef(y5, rowvar=False) - np.corrcoef(y0, rowvar=False)).round(4)"
   ]
  },
  {
   "cell_type": "code",
   "execution_count": 22,
   "id": "2962aa34-fe56-401e-9201-d7ef203d1f85",
   "metadata": {},
   "outputs": [
    {
     "data": {
      "text/plain": [
       "array([[ 0.    ,  0.0002,  0.    ],\n",
       "       [ 0.0002,  0.    ,  0.    ],\n",
       "       [ 0.    ,  0.    , -0.    ]])"
      ]
     },
     "execution_count": 22,
     "metadata": {},
     "output_type": "execute_result"
    }
   ],
   "source": [
    "# morphemes/lexemes\n",
    "(np.corrcoef(y6, rowvar=False) - np.corrcoef(y0, rowvar=False)).round(4)"
   ]
  },
  {
   "cell_type": "code",
   "execution_count": 23,
   "id": "dfde3501-3dc2-4be4-ab57-7561b2b6b316",
   "metadata": {},
   "outputs": [
    {
     "data": {
      "text/plain": [
       "array([[ 0.    , -0.0008, -0.0001],\n",
       "       [-0.0008,  0.    ,  0.0001],\n",
       "       [-0.0001,  0.0001,  0.    ]])"
      ]
     },
     "execution_count": 23,
     "metadata": {},
     "output_type": "execute_result"
    }
   ],
   "source": [
    "# lemma freq\n",
    "(np.corrcoef(y7, rowvar=False) - np.corrcoef(y0, rowvar=False)).round(4)"
   ]
  },
  {
   "cell_type": "code",
   "execution_count": 24,
   "id": "3210b1ce-a98a-4173-9eed-52dbfb21ae77",
   "metadata": {},
   "outputs": [
    {
     "data": {
      "text/plain": [
       "array([[0.    , 0.006 , 0.0086],\n",
       "       [0.006 , 0.    , 0.0009],\n",
       "       [0.0086, 0.0009, 0.    ]])"
      ]
     },
     "execution_count": 24,
     "metadata": {},
     "output_type": "execute_result"
    }
   ],
   "source": [
    "# txt length\n",
    "(np.corrcoef(y8, rowvar=False) - np.corrcoef(y0, rowvar=False)).round(4)"
   ]
  },
  {
   "cell_type": "code",
   "execution_count": 25,
   "id": "7a8633bf-0267-4da7-a289-eb7c4f0a5292",
   "metadata": {},
   "outputs": [
    {
     "data": {
      "text/plain": [
       "array([[-0.    , -0.0001, -0.0004],\n",
       "       [-0.0001, -0.    ,  0.0001],\n",
       "       [-0.0004,  0.0001,  0.    ]])"
      ]
     },
     "execution_count": 25,
     "metadata": {},
     "output_type": "execute_result"
    }
   ],
   "source": [
    "# bi-gram frequency\n",
    "(np.corrcoef(y9, rowvar=False) - np.corrcoef(y0, rowvar=False)).round(4)"
   ]
  },
  {
   "cell_type": "code",
   "execution_count": null,
   "id": "1218d173-508b-47af-b807-9e0860d7f22b",
   "metadata": {},
   "outputs": [],
   "source": []
  }
 ],
 "metadata": {
  "kernelspec": {
   "display_name": "Python 3 (ipykernel)",
   "language": "python",
   "name": "python3"
  },
  "language_info": {
   "codemirror_mode": {
    "name": "ipython",
    "version": 3
   },
   "file_extension": ".py",
   "mimetype": "text/x-python",
   "name": "python",
   "nbconvert_exporter": "python",
   "pygments_lexer": "ipython3",
   "version": "3.7.9"
  }
 },
 "nbformat": 4,
 "nbformat_minor": 5
}
