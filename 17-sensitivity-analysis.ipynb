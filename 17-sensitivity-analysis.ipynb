{
 "cells": [
  {
   "cell_type": "code",
   "execution_count": 1,
   "id": "e6fa8a1e-194c-444a-b4f1-944564a4d8e7",
   "metadata": {},
   "outputs": [],
   "source": [
    "import pandas as pd\n",
    "import numpy as np\n",
    "import joblib\n",
    "import gc\n",
    "import scipy.stats\n",
    "\n",
    "import matplotlib.pyplot as plt\n",
    "%matplotlib inline"
   ]
  },
  {
   "cell_type": "markdown",
   "id": "71ac863f-1ae6-436e-a1a1-fdf9d74da853",
   "metadata": {},
   "source": [
    "## Load Dataset"
   ]
  },
  {
   "cell_type": "code",
   "execution_count": 2,
   "id": "4ae16e62-e495-49f6-a149-16a01ccd132a",
   "metadata": {},
   "outputs": [
    {
     "data": {
      "text/plain": [
       "0"
      ]
     },
     "execution_count": 2,
     "metadata": {},
     "output_type": "execute_result"
    }
   ],
   "source": [
    "# Load the raw data\n",
    "df = pd.read_csv(\"data/ratings.csv\", encoding=\"ISO-8859-1\")\n",
    "# df = df[:20]\n",
    "\n",
    "# Input- & Output-Variables\n",
    "y1mos = df[\"MOS_Complexity\"].values\n",
    "y1std = df[\"Std_Complexity\"].values\n",
    "y2mos = df[\"MOS_Understandability\"].values\n",
    "y2std = df[\"Std_Understandability\"].values\n",
    "y3mos = df[\"MOS_Lexical_difficulty\"].values\n",
    "y3std = df[\"Std_Lexical_difficulty\"].values\n",
    "# free memory\n",
    "del df\n",
    "gc.collect()"
   ]
  },
  {
   "cell_type": "markdown",
   "id": "968cf768-f9c4-4e5a-8295-139ada8e77d2",
   "metadata": {},
   "source": [
    "## Lead Precomputed Features"
   ]
  },
  {
   "cell_type": "code",
   "execution_count": 3,
   "id": "455234df-ff32-45a4-97be-48e28d128b6d",
   "metadata": {},
   "outputs": [],
   "source": [
    "with open('./data/preprocessed.npy', 'rb') as fp:\n",
    "    feats1 = np.load(fp)\n",
    "    feats2 = np.load(fp)\n",
    "    feats3 = np.load(fp)\n",
    "    feats4 = np.load(fp)\n",
    "    feats5 = np.load(fp)\n",
    "    feats6 = np.load(fp)\n",
    "    feats7 = np.load(fp)\n",
    "    feats8 = np.load(fp)\n",
    "    feats9 = np.load(fp)"
   ]
  },
  {
   "cell_type": "code",
   "execution_count": 4,
   "id": "113b6641-a573-4078-80ba-616d0693d4dc",
   "metadata": {},
   "outputs": [],
   "source": [
    "xrnd1 = np.random.random(size=feats1.shape)\n",
    "xrnd1 = (xrnd1.T / xrnd1.sum(axis=1)).T\n",
    "\n",
    "xrnd2 = np.random.random(size=feats2.shape)\n",
    "xrnd2 = (xrnd2.T / xrnd2.sum(axis=1)).T\n",
    "\n",
    "xrnd3 = np.random.random(size=feats3.shape)\n",
    "xrnd3 = (xrnd3.T / xrnd3.sum(axis=1)).T\n",
    "\n",
    "xrnd4 = np.random.random(size=feats4.shape)\n",
    "xrnd4 = (xrnd4.T / xrnd4.sum(axis=1)).T\n",
    "\n",
    "xrnd5 = np.random.random(size=feats5.shape)\n",
    "xrnd5 = (xrnd5.T / xrnd5.sum(axis=1)).T\n",
    "\n",
    "xrnd6 = np.random.random(size=feats6.shape)\n",
    "xrnd6 = (xrnd6.T / xrnd6.sum(axis=1)).T\n",
    "\n",
    "xrnd7 = np.random.random(size=feats7.shape)\n",
    "xrnd7 = (xrnd7.T / xrnd7.sum(axis=1)).T\n",
    "\n",
    "xrnd9 = np.random.random(size=feats9.shape)\n",
    "xrnd9 = (xrnd9.T / xrnd9.sum(axis=1)).T"
   ]
  },
  {
   "cell_type": "code",
   "execution_count": 5,
   "id": "1c0df829-9729-4b1e-8567-b7539cc9cd5c",
   "metadata": {},
   "outputs": [],
   "source": [
    "xinputs0 = np.hstack([feats1, feats2, feats3, feats4, feats5, feats6, feats7, feats9])\n",
    "xinputs1 = np.hstack([xrnd1, feats2, feats3, feats4, feats5, feats6, feats7, feats9])\n",
    "xinputs2 = np.hstack([feats1, xrnd2, feats3, feats4, feats5, feats6, feats7, feats9])\n",
    "xinputs3 = np.hstack([feats1, feats2, xrnd3, feats4, feats5, feats6, feats7, feats9])\n",
    "xinputs4 = np.hstack([feats1, feats2, feats3, xrnd4, feats5, feats6, feats7, feats9])\n",
    "xinputs5 = np.hstack([feats1, feats2, feats3, feats4, xrnd5, feats6, feats7, feats9])\n",
    "xinputs6 = np.hstack([feats1, feats2, feats3, feats4, feats5, xrnd6, feats7, feats9])\n",
    "xinputs7 = np.hstack([feats1, feats2, feats3, feats4, feats5, feats6, xrnd7, feats9])\n",
    "xinputs9 = np.hstack([feats1, feats2, feats3, feats4, feats5, feats6, feats7, xrnd9])"
   ]
  },
  {
   "cell_type": "markdown",
   "id": "f5775e2c-5dc4-4c1f-a8c2-baf90916c82d",
   "metadata": {},
   "source": [
    "## Load Model"
   ]
  },
  {
   "cell_type": "code",
   "execution_count": 6,
   "id": "cbd14c83-d392-4aeb-90a7-afabc708f9ad",
   "metadata": {},
   "outputs": [],
   "source": [
    "model2 = joblib.load('./models/model7-rf/model2.joblib')\n",
    "model1a = joblib.load('./models/model7-rf/model1a.joblib')\n",
    "model1b = joblib.load('./models/model7-rf/model1b.joblib')\n",
    "model1c = joblib.load('./models/model7-rf/model1c.joblib')"
   ]
  },
  {
   "cell_type": "markdown",
   "id": "7dafd02a-fd35-47da-b6e6-2e29305687b8",
   "metadata": {},
   "source": [
    "## Inference"
   ]
  },
  {
   "cell_type": "code",
   "execution_count": 7,
   "id": "6e827016-eb36-4afa-aa1c-1207019e39f4",
   "metadata": {},
   "outputs": [],
   "source": [
    "eps0 = model2.predict(xinputs0)\n",
    "eps1 = model2.predict(xinputs1)\n",
    "eps2 = model2.predict(xinputs2)\n",
    "eps3 = model2.predict(xinputs3)\n",
    "eps4 = model2.predict(xinputs4)\n",
    "eps5 = model2.predict(xinputs5)\n",
    "eps6 = model2.predict(xinputs6)\n",
    "eps7 = model2.predict(xinputs7)\n",
    "eps9 = model2.predict(xinputs9)"
   ]
  },
  {
   "cell_type": "code",
   "execution_count": 8,
   "id": "a242e9ce-74ff-4eac-a823-6849923aa631",
   "metadata": {},
   "outputs": [],
   "source": [
    "y0 = np.c_[\n",
    "    eps0[:, 0] + model1a.predict(feats8[:, 1].reshape(-1, 1)),\n",
    "    eps0[:, 1] + model1b.predict(feats8[:, 1].reshape(-1, 1)),\n",
    "    eps0[:, 2] + model1c.predict(feats8[:, 1].reshape(-1, 1))\n",
    "]\n",
    "\n",
    "y1 = np.c_[\n",
    "    eps1[:, 0] + model1a.predict(feats8[:, 1].reshape(-1, 1)),\n",
    "    eps1[:, 1] + model1b.predict(feats8[:, 1].reshape(-1, 1)),\n",
    "    eps1[:, 2] + model1c.predict(feats8[:, 1].reshape(-1, 1))\n",
    "]\n",
    "\n",
    "y2 = np.c_[\n",
    "    eps2[:, 0] + model1a.predict(feats8[:, 1].reshape(-1, 1)),\n",
    "    eps2[:, 1] + model1b.predict(feats8[:, 1].reshape(-1, 1)),\n",
    "    eps2[:, 2] + model1c.predict(feats8[:, 1].reshape(-1, 1))\n",
    "]\n",
    "\n",
    "y3 = np.c_[\n",
    "    eps3[:, 0] + model1a.predict(feats8[:, 1].reshape(-1, 1)),\n",
    "    eps3[:, 1] + model1b.predict(feats8[:, 1].reshape(-1, 1)),\n",
    "    eps3[:, 2] + model1c.predict(feats8[:, 1].reshape(-1, 1))\n",
    "]\n",
    "\n",
    "y4 = np.c_[\n",
    "    eps4[:, 0] + model1a.predict(feats8[:, 1].reshape(-1, 1)),\n",
    "    eps4[:, 1] + model1b.predict(feats8[:, 1].reshape(-1, 1)),\n",
    "    eps4[:, 2] + model1c.predict(feats8[:, 1].reshape(-1, 1))\n",
    "]\n",
    "\n",
    "y5 = np.c_[\n",
    "    eps5[:, 0] + model1a.predict(feats8[:, 1].reshape(-1, 1)),\n",
    "    eps5[:, 1] + model1b.predict(feats8[:, 1].reshape(-1, 1)),\n",
    "    eps5[:, 2] + model1c.predict(feats8[:, 1].reshape(-1, 1))\n",
    "]\n",
    "\n",
    "y6 = np.c_[\n",
    "    eps6[:, 0] + model1a.predict(feats8[:, 1].reshape(-1, 1)),\n",
    "    eps6[:, 1] + model1b.predict(feats8[:, 1].reshape(-1, 1)),\n",
    "    eps6[:, 2] + model1c.predict(feats8[:, 1].reshape(-1, 1))\n",
    "]\n",
    "\n",
    "y7 = np.c_[\n",
    "    eps7[:, 0] + model1a.predict(feats8[:, 1].reshape(-1, 1)),\n",
    "    eps7[:, 1] + model1b.predict(feats8[:, 1].reshape(-1, 1)),\n",
    "    eps7[:, 2] + model1c.predict(feats8[:, 1].reshape(-1, 1))\n",
    "]\n",
    "\n",
    "y9 = np.c_[\n",
    "    eps9[:, 0] + model1a.predict(feats8[:, 1].reshape(-1, 1)),\n",
    "    eps9[:, 1] + model1b.predict(feats8[:, 1].reshape(-1, 1)),\n",
    "    eps9[:, 2] + model1c.predict(feats8[:, 1].reshape(-1, 1))\n",
    "]\n"
   ]
  },
  {
   "cell_type": "markdown",
   "id": "a16f017b-1fae-4588-bb3a-266bdb0cadd3",
   "metadata": {},
   "source": [
    "## Sensitivity analysis on loss function"
   ]
  },
  {
   "cell_type": "code",
   "execution_count": 9,
   "id": "70b9f41f-aa57-46e8-8d09-1499b0036b5c",
   "metadata": {},
   "outputs": [
    {
     "name": "stdout",
     "output_type": "stream",
     "text": [
      " Complexity | Understandability | Lexical\n",
      "  semantic: 0.2405  0.3381  0.3928\n",
      "    syntax: 0.0057  0.0079  0.0108\n",
      "  pos tags: 0.0086  0.0121  0.0139\n",
      "morph tags: 0.0060  0.0066  0.0084\n",
      " phonetics: 0.0011  0.0011  0.0017\n",
      " morphemes: 0.0066  0.0091  0.0106\n",
      "lemma freq: 0.0102  0.0158  0.0201\n",
      "bigram frq: 0.0111  0.0136  0.0156\n"
     ]
    }
   ],
   "source": [
    "l0 = np.power(np.c_[y1mos, y2mos, y3mos] - y0, 2).mean(axis=0)\n",
    "l1 = np.power(np.c_[y1mos, y2mos, y3mos] - y1, 2).mean(axis=0)\n",
    "l2 = np.power(np.c_[y1mos, y2mos, y3mos] - y2, 2).mean(axis=0)\n",
    "l3 = np.power(np.c_[y1mos, y2mos, y3mos] - y3, 2).mean(axis=0)\n",
    "l4 = np.power(np.c_[y1mos, y2mos, y3mos] - y4, 2).mean(axis=0)\n",
    "l5 = np.power(np.c_[y1mos, y2mos, y3mos] - y5, 2).mean(axis=0)\n",
    "l6 = np.power(np.c_[y1mos, y2mos, y3mos] - y6, 2).mean(axis=0)\n",
    "l7 = np.power(np.c_[y1mos, y2mos, y3mos] - y7, 2).mean(axis=0)\n",
    "l9 = np.power(np.c_[y1mos, y2mos, y3mos] - y9, 2).mean(axis=0)\n",
    "\n",
    "print(\" Complexity | Understandability | Lexical\")\n",
    "print(\"  semantic: \" + '  '.join([f\"{x:6.4f}\" for x in l1 - l0]))\n",
    "print(\"    syntax: \" + '  '.join([f\"{x:6.4f}\" for x in l2 - l0]))\n",
    "print(\"  pos tags: \" + '  '.join([f\"{x:6.4f}\" for x in l3 - l0]))\n",
    "print(\"morph tags: \" + '  '.join([f\"{x:6.4f}\" for x in l4 - l0]))\n",
    "print(\" phonetics: \" + '  '.join([f\"{x:6.4f}\" for x in l5 - l0]))\n",
    "print(\" morphemes: \" + '  '.join([f\"{x:6.4f}\" for x in l6 - l0]))\n",
    "print(\"lemma freq: \" + '  '.join([f\"{x:6.4f}\" for x in l7 - l0]))\n",
    "print(\"bigram frq: \" + '  '.join([f\"{x:6.4f}\" for x in l9 - l0]))"
   ]
  },
  {
   "cell_type": "code",
   "execution_count": 10,
   "id": "c56e9dc2-8856-4d9a-a602-0c2a1004fa2a",
   "metadata": {},
   "outputs": [
    {
     "name": "stdout",
     "output_type": "stream",
     "text": [
      " Complexity | Understandability | Lexical\n",
      "  semantic: 0.1600  0.2063  0.2247\n",
      "    syntax: 0.0038  0.0050  0.0064\n",
      "  pos tags: 0.0054  0.0080  0.0089\n",
      "morph tags: 0.0043  0.0043  0.0055\n",
      " phonetics: 0.0008  0.0011  0.0015\n",
      " morphemes: 0.0048  0.0063  0.0068\n",
      "lemma freq: 0.0081  0.0138  0.0159\n",
      "bigram frq: 0.0071  0.0096  0.0101\n"
     ]
    }
   ],
   "source": [
    "l0 = np.abs(np.c_[y1mos, y2mos, y3mos] - y0).mean(axis=0)\n",
    "l1 = np.abs(np.c_[y1mos, y2mos, y3mos] - y1).mean(axis=0)\n",
    "l2 = np.abs(np.c_[y1mos, y2mos, y3mos] - y2).mean(axis=0)\n",
    "l3 = np.abs(np.c_[y1mos, y2mos, y3mos] - y3).mean(axis=0)\n",
    "l4 = np.abs(np.c_[y1mos, y2mos, y3mos] - y4).mean(axis=0)\n",
    "l5 = np.abs(np.c_[y1mos, y2mos, y3mos] - y5).mean(axis=0)\n",
    "l6 = np.abs(np.c_[y1mos, y2mos, y3mos] - y6).mean(axis=0)\n",
    "l7 = np.abs(np.c_[y1mos, y2mos, y3mos] - y7).mean(axis=0)\n",
    "l9 = np.abs(np.c_[y1mos, y2mos, y3mos] - y9).mean(axis=0)\n",
    "\n",
    "print(\" Complexity | Understandability | Lexical\")\n",
    "print(\"  semantic: \" + '  '.join([f\"{x:6.4f}\" for x in l1 - l0]))\n",
    "print(\"    syntax: \" + '  '.join([f\"{x:6.4f}\" for x in l2 - l0]))\n",
    "print(\"  pos tags: \" + '  '.join([f\"{x:6.4f}\" for x in l3 - l0]))\n",
    "print(\"morph tags: \" + '  '.join([f\"{x:6.4f}\" for x in l4 - l0]))\n",
    "print(\" phonetics: \" + '  '.join([f\"{x:6.4f}\" for x in l5 - l0]))\n",
    "print(\" morphemes: \" + '  '.join([f\"{x:6.4f}\" for x in l6 - l0]))\n",
    "print(\"lemma freq: \" + '  '.join([f\"{x:6.4f}\" for x in l7 - l0]))\n",
    "print(\"bigram frq: \" + '  '.join([f\"{x:6.4f}\" for x in l9 - l0]))"
   ]
  },
  {
   "cell_type": "markdown",
   "id": "c41a101f-8648-44db-bd0b-08738c55ebac",
   "metadata": {},
   "source": [
    "## Feature Importance"
   ]
  },
  {
   "cell_type": "code",
   "execution_count": 11,
   "id": "ca6c858e-a92a-49da-ba8e-7ea6cc8a2bd6",
   "metadata": {},
   "outputs": [
    {
     "data": {
      "text/html": [
       "<div>\n",
       "<style scoped>\n",
       "    .dataframe tbody tr th:only-of-type {\n",
       "        vertical-align: middle;\n",
       "    }\n",
       "\n",
       "    .dataframe tbody tr th {\n",
       "        vertical-align: top;\n",
       "    }\n",
       "\n",
       "    .dataframe thead th {\n",
       "        text-align: right;\n",
       "    }\n",
       "</style>\n",
       "<table border=\"1\" class=\"dataframe\">\n",
       "  <thead>\n",
       "    <tr style=\"text-align: right;\">\n",
       "      <th></th>\n",
       "      <th>fi</th>\n",
       "    </tr>\n",
       "  </thead>\n",
       "  <tbody>\n",
       "    <tr>\n",
       "      <th>sbert_156</th>\n",
       "      <td>0.109948</td>\n",
       "    </tr>\n",
       "    <tr>\n",
       "      <th>sbert_173</th>\n",
       "      <td>0.038845</td>\n",
       "    </tr>\n",
       "    <tr>\n",
       "      <th>sbert_287</th>\n",
       "      <td>0.021552</td>\n",
       "    </tr>\n",
       "    <tr>\n",
       "      <th>sbert_229</th>\n",
       "      <td>0.020868</td>\n",
       "    </tr>\n",
       "    <tr>\n",
       "      <th>sbert_68</th>\n",
       "      <td>0.019843</td>\n",
       "    </tr>\n",
       "    <tr>\n",
       "      <th>frequency_2</th>\n",
       "      <td>0.016413</td>\n",
       "    </tr>\n",
       "    <tr>\n",
       "      <th>sbert_329</th>\n",
       "      <td>0.016284</td>\n",
       "    </tr>\n",
       "    <tr>\n",
       "      <th>sbert_69</th>\n",
       "      <td>0.015834</td>\n",
       "    </tr>\n",
       "    <tr>\n",
       "      <th>sbert_228</th>\n",
       "      <td>0.013689</td>\n",
       "    </tr>\n",
       "    <tr>\n",
       "      <th>sbert_369</th>\n",
       "      <td>0.013205</td>\n",
       "    </tr>\n",
       "    <tr>\n",
       "      <th>sbert_363</th>\n",
       "      <td>0.011027</td>\n",
       "    </tr>\n",
       "    <tr>\n",
       "      <th>sbert_93</th>\n",
       "      <td>0.010621</td>\n",
       "    </tr>\n",
       "    <tr>\n",
       "      <th>sbert_338</th>\n",
       "      <td>0.009777</td>\n",
       "    </tr>\n",
       "    <tr>\n",
       "      <th>bigram_3</th>\n",
       "      <td>0.009078</td>\n",
       "    </tr>\n",
       "    <tr>\n",
       "      <th>sbert_222</th>\n",
       "      <td>0.007992</td>\n",
       "    </tr>\n",
       "    <tr>\n",
       "      <th>sbert_193</th>\n",
       "      <td>0.007832</td>\n",
       "    </tr>\n",
       "    <tr>\n",
       "      <th>postag_11</th>\n",
       "      <td>0.006831</td>\n",
       "    </tr>\n",
       "    <tr>\n",
       "      <th>bigram_1</th>\n",
       "      <td>0.006803</td>\n",
       "    </tr>\n",
       "    <tr>\n",
       "      <th>sbert_122</th>\n",
       "      <td>0.006540</td>\n",
       "    </tr>\n",
       "    <tr>\n",
       "      <th>sbert_131</th>\n",
       "      <td>0.006320</td>\n",
       "    </tr>\n",
       "  </tbody>\n",
       "</table>\n",
       "</div>"
      ],
      "text/plain": [
       "                   fi\n",
       "sbert_156    0.109948\n",
       "sbert_173    0.038845\n",
       "sbert_287    0.021552\n",
       "sbert_229    0.020868\n",
       "sbert_68     0.019843\n",
       "frequency_2  0.016413\n",
       "sbert_329    0.016284\n",
       "sbert_69     0.015834\n",
       "sbert_228    0.013689\n",
       "sbert_369    0.013205\n",
       "sbert_363    0.011027\n",
       "sbert_93     0.010621\n",
       "sbert_338    0.009777\n",
       "bigram_3     0.009078\n",
       "sbert_222    0.007992\n",
       "sbert_193    0.007832\n",
       "postag_11    0.006831\n",
       "bigram_1     0.006803\n",
       "sbert_122    0.006540\n",
       "sbert_131    0.006320"
      ]
     },
     "execution_count": 11,
     "metadata": {},
     "output_type": "execute_result"
    }
   ],
   "source": [
    "xnames = [f\"sbert_{j}\" for j in range(feats1.shape[1])] \\\n",
    "    + [f\"nodedist_{j}\" for j in range(feats2.shape[1])] \\\n",
    "    + [f\"postag_{j}\" for j in range(feats3.shape[1])] \\\n",
    "    + [f\"morphtag_{j}\" for j in range(feats4.shape[1])] \\\n",
    "    + [f\"consonant_{j}\" for j in range(feats5.shape[1])] \\\n",
    "    + [f\"lexemes_{j}\" for j in range(feats6.shape[1])] \\\n",
    "    + [f\"frequency_{j}\" for j in range(feats7.shape[1])] \\\n",
    "    + [f\"bigram_{j}\" for j in range(feats9.shape[1])] \n",
    "\n",
    "df_fi = pd.DataFrame(index=xnames, data=model2.feature_importances_, columns=[\"fi\"])\n",
    "df_fi = df_fi.sort_values(by=\"fi\", ascending=False)\n",
    "df_fi.head(20)"
   ]
  },
  {
   "cell_type": "code",
   "execution_count": 12,
   "id": "7db54a3f-b476-4ddd-b7b7-a37bfe30ab83",
   "metadata": {},
   "outputs": [
    {
     "name": "stdout",
     "output_type": "stream",
     "text": [
      "           sbert: 0.0023 | 0.1099\n",
      "        nodedist: 0.0010 | 0.0020\n",
      "          postag: 0.0012 | 0.0068\n",
      "        morphtag: 0.0004 | 0.0021\n",
      "       consonant: 0.0015 | 0.0017\n",
      "         lexemes: 0.0012 | 0.0037\n",
      "       frequency: 0.0041 | 0.0164\n",
      "          bigram: 0.0057 | 0.0091\n"
     ]
    }
   ],
   "source": [
    "for typ in [\"sbert\", \"nodedist\", \"postag\", \"morphtag\", \"consonant\", \"lexemes\", \"frequency\", \"bigram\"]:\n",
    "    mask = [typ in r for r in df_fi.index]\n",
    "    fi = df_fi.loc[mask].values\n",
    "    print(f\"{typ:>16s}: {fi.mean():6.4f} | {fi.max():6.4f}\")"
   ]
  },
  {
   "cell_type": "markdown",
   "id": "d9b6f476-c139-4a52-955f-13e01fc142b2",
   "metadata": {},
   "source": [
    "## Correlations"
   ]
  },
  {
   "cell_type": "code",
   "execution_count": 13,
   "id": "84f3d11d-7695-4f8f-ac79-4b8019ca0e0a",
   "metadata": {},
   "outputs": [
    {
     "data": {
      "text/plain": [
       "array([[1.        , 0.89598348, 0.90518689],\n",
       "       [0.89598348, 1.        , 0.93461015],\n",
       "       [0.90518689, 0.93461015, 1.        ]])"
      ]
     },
     "execution_count": 13,
     "metadata": {},
     "output_type": "execute_result"
    }
   ],
   "source": [
    "np.corrcoef(np.c_[y1mos, y2mos, y3mos], rowvar=False)"
   ]
  },
  {
   "cell_type": "code",
   "execution_count": 14,
   "id": "07807175-a538-4e90-a37e-8ebf6388c023",
   "metadata": {},
   "outputs": [
    {
     "data": {
      "text/plain": [
       "array([[1.        , 0.98843208, 0.99312749],\n",
       "       [0.98843208, 1.        , 0.99889282],\n",
       "       [0.99312749, 0.99889282, 1.        ]])"
      ]
     },
     "execution_count": 14,
     "metadata": {},
     "output_type": "execute_result"
    }
   ],
   "source": [
    "np.corrcoef(y0, rowvar=False)"
   ]
  },
  {
   "cell_type": "code",
   "execution_count": 15,
   "id": "6d8b9c29-2374-4318-8509-e5adb0702e6c",
   "metadata": {},
   "outputs": [
    {
     "data": {
      "text/plain": [
       "array([[-0.    ,  0.011 ,  0.0065],\n",
       "       [ 0.011 ,  0.    ,  0.001 ],\n",
       "       [ 0.0065,  0.001 ,  0.    ]])"
      ]
     },
     "execution_count": 15,
     "metadata": {},
     "output_type": "execute_result"
    }
   ],
   "source": [
    "# semantic\n",
    "(np.corrcoef(y1, rowvar=False) - np.corrcoef(y0, rowvar=False)).round(4)"
   ]
  },
  {
   "cell_type": "code",
   "execution_count": 16,
   "id": "2fbf087e-7707-49e6-9530-29c387fd9823",
   "metadata": {},
   "outputs": [
    {
     "data": {
      "text/plain": [
       "array([[0.    , 0.0006, 0.0005],\n",
       "       [0.0006, 0.    , 0.    ],\n",
       "       [0.0005, 0.    , 0.    ]])"
      ]
     },
     "execution_count": 16,
     "metadata": {},
     "output_type": "execute_result"
    }
   ],
   "source": [
    "# syntactic (node vs token distance)\n",
    "(np.corrcoef(y2, rowvar=False) - np.corrcoef(y0, rowvar=False)).round(4)"
   ]
  },
  {
   "cell_type": "code",
   "execution_count": 17,
   "id": "0ba5fff9-8f08-4055-995a-ca53c1bb46ab",
   "metadata": {},
   "outputs": [
    {
     "data": {
      "text/plain": [
       "array([[ 0.    ,  0.0004,  0.0004],\n",
       "       [ 0.0004,  0.    ,  0.    ],\n",
       "       [ 0.0004,  0.    , -0.    ]])"
      ]
     },
     "execution_count": 17,
     "metadata": {},
     "output_type": "execute_result"
    }
   ],
   "source": [
    "# pos tags\n",
    "(np.corrcoef(y3, rowvar=False) - np.corrcoef(y0, rowvar=False)).round(4)"
   ]
  },
  {
   "cell_type": "code",
   "execution_count": 18,
   "id": "9e937ae1-93e9-4ab6-88d2-6353b90009e9",
   "metadata": {},
   "outputs": [
    {
     "data": {
      "text/plain": [
       "array([[-0.    ,  0.0003,  0.0002],\n",
       "       [ 0.0003,  0.    ,  0.    ],\n",
       "       [ 0.0002,  0.    ,  0.    ]])"
      ]
     },
     "execution_count": 18,
     "metadata": {},
     "output_type": "execute_result"
    }
   ],
   "source": [
    "# morph tags\n",
    "(np.corrcoef(y4, rowvar=False) - np.corrcoef(y0, rowvar=False)).round(4)"
   ]
  },
  {
   "cell_type": "code",
   "execution_count": 19,
   "id": "124ad785-d337-453b-a50e-01e627c0d154",
   "metadata": {},
   "outputs": [
    {
     "data": {
      "text/plain": [
       "array([[ 0.,  0.,  0.],\n",
       "       [ 0.,  0., -0.],\n",
       "       [ 0., -0., -0.]])"
      ]
     },
     "execution_count": 19,
     "metadata": {},
     "output_type": "execute_result"
    }
   ],
   "source": [
    "# phonetics (consonant clusters)\n",
    "(np.corrcoef(y5, rowvar=False) - np.corrcoef(y0, rowvar=False)).round(4)"
   ]
  },
  {
   "cell_type": "code",
   "execution_count": 20,
   "id": "2962aa34-fe56-401e-9201-d7ef203d1f85",
   "metadata": {},
   "outputs": [
    {
     "data": {
      "text/plain": [
       "array([[0.    , 0.0004, 0.0002],\n",
       "       [0.0004, 0.    , 0.    ],\n",
       "       [0.0002, 0.    , 0.    ]])"
      ]
     },
     "execution_count": 20,
     "metadata": {},
     "output_type": "execute_result"
    }
   ],
   "source": [
    "# morphemes/lexemes\n",
    "(np.corrcoef(y6, rowvar=False) - np.corrcoef(y0, rowvar=False)).round(4)"
   ]
  },
  {
   "cell_type": "code",
   "execution_count": 21,
   "id": "dfde3501-3dc2-4be4-ab57-7561b2b6b316",
   "metadata": {},
   "outputs": [
    {
     "data": {
      "text/plain": [
       "array([[0.    , 0.0002, 0.0002],\n",
       "       [0.0002, 0.    , 0.    ],\n",
       "       [0.0002, 0.    , 0.    ]])"
      ]
     },
     "execution_count": 21,
     "metadata": {},
     "output_type": "execute_result"
    }
   ],
   "source": [
    "# lemma freq\n",
    "(np.corrcoef(y7, rowvar=False) - np.corrcoef(y0, rowvar=False)).round(4)"
   ]
  },
  {
   "cell_type": "code",
   "execution_count": 22,
   "id": "7a8633bf-0267-4da7-a289-eb7c4f0a5292",
   "metadata": {},
   "outputs": [
    {
     "data": {
      "text/plain": [
       "array([[-0.    ,  0.0004,  0.0002],\n",
       "       [ 0.0004,  0.    ,  0.    ],\n",
       "       [ 0.0002,  0.    , -0.    ]])"
      ]
     },
     "execution_count": 22,
     "metadata": {},
     "output_type": "execute_result"
    }
   ],
   "source": [
    "# bi-gram frequency\n",
    "(np.corrcoef(y9, rowvar=False) - np.corrcoef(y0, rowvar=False)).round(4)"
   ]
  },
  {
   "cell_type": "code",
   "execution_count": null,
   "id": "1218d173-508b-47af-b807-9e0860d7f22b",
   "metadata": {},
   "outputs": [],
   "source": []
  }
 ],
 "metadata": {
  "kernelspec": {
   "display_name": "Python 3 (ipykernel)",
   "language": "python",
   "name": "python3"
  },
  "language_info": {
   "codemirror_mode": {
    "name": "ipython",
    "version": 3
   },
   "file_extension": ".py",
   "mimetype": "text/x-python",
   "name": "python",
   "nbconvert_exporter": "python",
   "pygments_lexer": "ipython3",
   "version": "3.7.9"
  }
 },
 "nbformat": 4,
 "nbformat_minor": 5
}
