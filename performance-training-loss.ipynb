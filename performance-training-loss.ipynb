{
 "cells": [
  {
   "cell_type": "code",
   "execution_count": 1,
   "id": "78ddf784-4955-4bd2-a1ed-5c98a2b245de",
   "metadata": {},
   "outputs": [],
   "source": [
    "%%capture\n",
    "from featureeng import preprocessing"
   ]
  },
  {
   "cell_type": "code",
   "execution_count": 2,
   "id": "e6fa8a1e-194c-444a-b4f1-944564a4d8e7",
   "metadata": {},
   "outputs": [],
   "source": [
    "import pandas as pd\n",
    "import numpy as np\n",
    "import tensorflow as tf\n",
    "import gc\n",
    "import scipy.stats\n",
    "\n",
    "import matplotlib.pyplot as plt\n",
    "%matplotlib inline"
   ]
  },
  {
   "cell_type": "markdown",
   "id": "71ac863f-1ae6-436e-a1a1-fdf9d74da853",
   "metadata": {},
   "source": [
    "## Load Dataset"
   ]
  },
  {
   "cell_type": "code",
   "execution_count": 3,
   "id": "4ae16e62-e495-49f6-a149-16a01ccd132a",
   "metadata": {},
   "outputs": [
    {
     "data": {
      "text/plain": [
       "4"
      ]
     },
     "execution_count": 3,
     "metadata": {},
     "output_type": "execute_result"
    }
   ],
   "source": [
    "# Load the raw data\n",
    "df = pd.read_csv(\"data/ratings.csv\", encoding=\"ISO-8859-1\")\n",
    "# df = df[:20]\n",
    "# Input- & Output-Variables\n",
    "texts = df[\"Sentence\"].values \n",
    "y1mos = df[\"MOS_Complexity\"].values\n",
    "y1std = df[\"Std_Complexity\"].values\n",
    "y2mos = df[\"MOS_Understandability\"].values\n",
    "y2std = df[\"Std_Understandability\"].values\n",
    "y3mos = df[\"MOS_Lexical_difficulty\"].values\n",
    "y3std = df[\"Std_Lexical_difficulty\"].values\n",
    "# free memory\n",
    "del df\n",
    "gc.collect()"
   ]
  },
  {
   "cell_type": "markdown",
   "id": "968cf768-f9c4-4e5a-8295-139ada8e77d2",
   "metadata": {},
   "source": [
    "## Feature Engineering"
   ]
  },
  {
   "cell_type": "code",
   "execution_count": 4,
   "id": "455234df-ff32-45a4-97be-48e28d128b6d",
   "metadata": {},
   "outputs": [],
   "source": [
    "feats1, feats2, feats3, feats4, feats5, feats6 = preprocessing(texts)"
   ]
  },
  {
   "cell_type": "code",
   "execution_count": 5,
   "id": "1c0df829-9729-4b1e-8567-b7539cc9cd5c",
   "metadata": {},
   "outputs": [
    {
     "data": {
      "text/plain": [
       "(1000, 522)"
      ]
     },
     "execution_count": 5,
     "metadata": {},
     "output_type": "execute_result"
    }
   ],
   "source": [
    "xinputs = np.hstack([feats1, feats2, feats3, feats4, feats5, feats6])\n",
    "xinputs.shape"
   ]
  },
  {
   "cell_type": "markdown",
   "id": "f5775e2c-5dc4-4c1f-a8c2-baf90916c82d",
   "metadata": {},
   "source": [
    "## Load Model"
   ]
  },
  {
   "cell_type": "code",
   "execution_count": 6,
   "id": "cbd14c83-d392-4aeb-90a7-afabc708f9ad",
   "metadata": {},
   "outputs": [
    {
     "name": "stderr",
     "output_type": "stream",
     "text": [
      "2022-06-12 13:21:14.231759: I tensorflow/core/platform/cpu_feature_guard.cc:151] This TensorFlow binary is optimized with oneAPI Deep Neural Network Library (oneDNN) to use the following CPU instructions in performance-critical operations:  AVX2 FMA\n",
      "To enable them in other operations, rebuild TensorFlow with the appropriate compiler flags.\n"
     ]
    }
   ],
   "source": [
    "model = tf.keras.models.load_model(\n",
    "    \"best-model-370c-1-1\", compile=False)"
   ]
  },
  {
   "cell_type": "markdown",
   "id": "7dafd02a-fd35-47da-b6e6-2e29305687b8",
   "metadata": {},
   "source": [
    "## Inference"
   ]
  },
  {
   "cell_type": "code",
   "execution_count": 7,
   "id": "6e827016-eb36-4afa-aa1c-1207019e39f4",
   "metadata": {},
   "outputs": [],
   "source": [
    "y_pred = model.predict(xinputs)"
   ]
  },
  {
   "cell_type": "code",
   "execution_count": 8,
   "id": "f58b3996-6155-4558-9f68-3a46edc3d2e4",
   "metadata": {},
   "outputs": [],
   "source": [
    "ylikert1 = tf.argmax(y_pred['clf1'], axis=-1) + 1\n",
    "ylikert2 = tf.argmax(y_pred['clf2'], axis=-1) + 1\n",
    "ylikert3 = tf.argmax(y_pred['clf3'], axis=-1) + 1"
   ]
  },
  {
   "cell_type": "code",
   "execution_count": 9,
   "id": "18e5047d-1aa2-4ab8-8387-bb33b73b8a18",
   "metadata": {},
   "outputs": [],
   "source": [
    "yscore1 = y_pred['mos'][:, 0]\n",
    "yscore2 = y_pred['mos'][:, 1]\n",
    "yscore3 = y_pred['mos'][:, 2]"
   ]
  },
  {
   "cell_type": "markdown",
   "id": "056aa53b-e795-4e09-ae11-678356cf6fa7",
   "metadata": {},
   "source": [
    "### (1) Complexity"
   ]
  },
  {
   "cell_type": "code",
   "execution_count": 10,
   "id": "e4a40214-e4b3-4e63-af91-f675f39f79e4",
   "metadata": {},
   "outputs": [
    {
     "data": {
      "text/plain": [
       "SpearmanrResult(correlation=0.606613359397831, pvalue=1.5253547444321807e-101)"
      ]
     },
     "execution_count": 10,
     "metadata": {},
     "output_type": "execute_result"
    },
    {
     "data": {
      "image/png": "[encoded data removed]",
      "text/plain": [
       "<Figure size 432x288 with 1 Axes>"
      ]
     },
     "metadata": {
      "needs_background": "light"
     },
     "output_type": "display_data"
    }
   ],
   "source": [
    "plt.hist(yscore1 - tf.cast(ylikert1, float));\n",
    "plt.title(\"(1) Complexity\");\n",
    "plt.xlabel(\"Score vs Likert Prediction Diff\");\n",
    "scipy.stats.spearmanr(yscore1, tf.cast(ylikert1, float))"
   ]
  },
  {
   "cell_type": "code",
   "execution_count": 11,
   "id": "b3459404-c205-4bb7-8fc7-f99c00523226",
   "metadata": {},
   "outputs": [
    {
     "data": {
      "text/plain": [
       "SpearmanrResult(correlation=0.5978086988113187, pvalue=6.247353212626497e-98)"
      ]
     },
     "execution_count": 11,
     "metadata": {},
     "output_type": "execute_result"
    },
    {
     "data": {
      "image/png": "[encoded data removed]",
      "text/plain": [
       "<Figure size 432x288 with 1 Axes>"
      ]
     },
     "metadata": {
      "needs_background": "light"
     },
     "output_type": "display_data"
    }
   ],
   "source": [
    "plt.hist(y1mos - tf.cast(ylikert1, float));\n",
    "plt.title(\"(1) Complexity\");\n",
    "plt.xlabel(\"Target vs Likert Prediction Diff\");\n",
    "scipy.stats.spearmanr(y1mos, tf.cast(ylikert1, float))"
   ]
  },
  {
   "cell_type": "code",
   "execution_count": 12,
   "id": "0e74dc79-9c90-47e6-81f1-08e8be34156d",
   "metadata": {},
   "outputs": [
    {
     "data": {
      "text/plain": [
       "SpearmanrResult(correlation=0.9936282220995695, pvalue=0.0)"
      ]
     },
     "execution_count": 12,
     "metadata": {},
     "output_type": "execute_result"
    },
    {
     "data": {
      "image/png": "[encoded data removed]",
      "text/plain": [
       "<Figure size 432x288 with 1 Axes>"
      ]
     },
     "metadata": {
      "needs_background": "light"
     },
     "output_type": "display_data"
    }
   ],
   "source": [
    "plt.hist(y1mos - yscore1);\n",
    "plt.title(\"(1) Complexity\");\n",
    "plt.xlabel(\"Target vs Likert Prediction Diff\");\n",
    "scipy.stats.spearmanr(y1mos, yscore1)"
   ]
  },
  {
   "cell_type": "markdown",
   "id": "c4871184-8dd1-4650-a16f-fcd7f2861460",
   "metadata": {
    "tags": []
   },
   "source": [
    "### (2) Understandability"
   ]
  },
  {
   "cell_type": "code",
   "execution_count": 13,
   "id": "73ca552d-aeb6-4d3b-ab83-fd91a047dd96",
   "metadata": {},
   "outputs": [
    {
     "data": {
      "text/plain": [
       "SpearmanrResult(correlation=0.629881198376321, pvalue=1.1759830071739188e-111)"
      ]
     },
     "execution_count": 13,
     "metadata": {},
     "output_type": "execute_result"
    },
    {
     "data": {
      "image/png": "[encoded data removed]",
      "text/plain": [
       "<Figure size 432x288 with 1 Axes>"
      ]
     },
     "metadata": {
      "needs_background": "light"
     },
     "output_type": "display_data"
    }
   ],
   "source": [
    "plt.hist(yscore2 - tf.cast(ylikert2, float));\n",
    "plt.title(\"(2) Understandability\");\n",
    "plt.xlabel(\"Score vs Likert Prediction Diff\");\n",
    "scipy.stats.spearmanr(yscore2, tf.cast(ylikert2, float))"
   ]
  },
  {
   "cell_type": "code",
   "execution_count": 14,
   "id": "01d20c3d-4c00-417f-9c29-fc31c28cae4b",
   "metadata": {},
   "outputs": [
    {
     "data": {
      "text/plain": [
       "SpearmanrResult(correlation=0.6287444005693038, pvalue=3.842184952802558e-111)"
      ]
     },
     "execution_count": 14,
     "metadata": {},
     "output_type": "execute_result"
    },
    {
     "data": {
      "image/png": "[encoded data removed]",
      "text/plain": [
       "<Figure size 432x288 with 1 Axes>"
      ]
     },
     "metadata": {
      "needs_background": "light"
     },
     "output_type": "display_data"
    }
   ],
   "source": [
    "plt.hist(y2mos - tf.cast(ylikert2, float));\n",
    "plt.title(\"(2) Understandability\");\n",
    "plt.xlabel(\"Target vs Likert Prediction Diff\");\n",
    "scipy.stats.spearmanr(y2mos, tf.cast(ylikert2, float))"
   ]
  },
  {
   "cell_type": "code",
   "execution_count": 15,
   "id": "0bbb0011-a08b-4d8d-89d4-15fd8abf4214",
   "metadata": {},
   "outputs": [
    {
     "data": {
      "text/plain": [
       "SpearmanrResult(correlation=0.9887083861865423, pvalue=0.0)"
      ]
     },
     "execution_count": 15,
     "metadata": {},
     "output_type": "execute_result"
    },
    {
     "data": {
      "image/png": "[encoded data removed]",
      "text/plain": [
       "<Figure size 432x288 with 1 Axes>"
      ]
     },
     "metadata": {
      "needs_background": "light"
     },
     "output_type": "display_data"
    }
   ],
   "source": [
    "plt.hist(y2mos - yscore2);\n",
    "plt.title(\"(2) Understandability\");\n",
    "plt.xlabel(\"Target vs Likert Prediction Diff\");\n",
    "scipy.stats.spearmanr(y2mos, yscore2)"
   ]
  },
  {
   "cell_type": "markdown",
   "id": "d51ea8a8-6afc-4194-b81f-c8969b03f4c8",
   "metadata": {},
   "source": [
    "### (3) Lexical Difficulty"
   ]
  },
  {
   "cell_type": "code",
   "execution_count": 16,
   "id": "ee35b14d-0e20-483e-800d-89492d3e3240",
   "metadata": {},
   "outputs": [
    {
     "data": {
      "text/plain": [
       "SpearmanrResult(correlation=0.7719656210240143, pvalue=1.3668719515597334e-198)"
      ]
     },
     "execution_count": 16,
     "metadata": {},
     "output_type": "execute_result"
    },
    {
     "data": {
      "image/png": "[encoded data removed]",
      "text/plain": [
       "<Figure size 432x288 with 1 Axes>"
      ]
     },
     "metadata": {
      "needs_background": "light"
     },
     "output_type": "display_data"
    }
   ],
   "source": [
    "plt.hist(yscore3 - tf.cast(ylikert3, float));\n",
    "plt.title(\"(3) Lexical Difficulty\");\n",
    "plt.xlabel(\"Score vs Likert Prediction Diff\");\n",
    "scipy.stats.spearmanr(yscore3, tf.cast(ylikert3, float))"
   ]
  },
  {
   "cell_type": "code",
   "execution_count": 17,
   "id": "c0de216d-5726-420c-b7cd-e96f8cd35e01",
   "metadata": {},
   "outputs": [
    {
     "data": {
      "text/plain": [
       "SpearmanrResult(correlation=0.7674313193359015, pvalue=7.078120923743176e-195)"
      ]
     },
     "execution_count": 17,
     "metadata": {},
     "output_type": "execute_result"
    },
    {
     "data": {
      "image/png": "[encoded data removed]",
      "text/plain": [
       "<Figure size 432x288 with 1 Axes>"
      ]
     },
     "metadata": {
      "needs_background": "light"
     },
     "output_type": "display_data"
    }
   ],
   "source": [
    "plt.hist(y3mos - tf.cast(ylikert3, float));\n",
    "plt.title(\"(3) Lexical Difficulty\");\n",
    "plt.xlabel(\"Target vs Likert Prediction Diff\");\n",
    "scipy.stats.spearmanr(y3mos, tf.cast(ylikert3, float))"
   ]
  },
  {
   "cell_type": "code",
   "execution_count": 18,
   "id": "d5efebef-17e3-44a1-a6b6-251201eb49a6",
   "metadata": {},
   "outputs": [
    {
     "data": {
      "text/plain": [
       "SpearmanrResult(correlation=0.994242852329556, pvalue=0.0)"
      ]
     },
     "execution_count": 18,
     "metadata": {},
     "output_type": "execute_result"
    },
    {
     "data": {
      "image/png": "[encoded data removed]",
      "text/plain": [
       "<Figure size 432x288 with 1 Axes>"
      ]
     },
     "metadata": {
      "needs_background": "light"
     },
     "output_type": "display_data"
    }
   ],
   "source": [
    "plt.hist(y3mos - yscore3);\n",
    "plt.title(\"(3) Lexical Difficulty\");\n",
    "plt.xlabel(\"Target vs Likert Prediction Diff\");\n",
    "scipy.stats.spearmanr(y3mos, yscore3)"
   ]
  },
  {
   "cell_type": "markdown",
   "id": "d9b6f476-c139-4a52-955f-13e01fc142b2",
   "metadata": {},
   "source": [
    "### Correlations"
   ]
  },
  {
   "cell_type": "code",
   "execution_count": 22,
   "id": "84f3d11d-7695-4f8f-ac79-4b8019ca0e0a",
   "metadata": {},
   "outputs": [
    {
     "data": {
      "text/plain": [
       "array([[1.        , 0.89598348, 0.90518689],\n",
       "       [0.89598348, 1.        , 0.93461015],\n",
       "       [0.90518689, 0.93461015, 1.        ]])"
      ]
     },
     "execution_count": 22,
     "metadata": {},
     "output_type": "execute_result"
    }
   ],
   "source": [
    "np.corrcoef(np.c_[y1mos, y2mos, y3mos], rowvar=False)"
   ]
  },
  {
   "cell_type": "code",
   "execution_count": 23,
   "id": "07807175-a538-4e90-a37e-8ebf6388c023",
   "metadata": {},
   "outputs": [
    {
     "data": {
      "text/plain": [
       "array([[1.        , 0.8985984 , 0.90813378],\n",
       "       [0.8985984 , 1.        , 0.93350992],\n",
       "       [0.90813378, 0.93350992, 1.        ]])"
      ]
     },
     "execution_count": 23,
     "metadata": {},
     "output_type": "execute_result"
    }
   ],
   "source": [
    "np.corrcoef(np.c_[yscore1, yscore2, yscore3], rowvar=False)"
   ]
  }
 ],
 "metadata": {
  "kernelspec": {
   "display_name": "Python 3 (ipykernel)",
   "language": "python",
   "name": "python3"
  },
  "language_info": {
   "codemirror_mode": {
    "name": "ipython",
    "version": 3
   },
   "file_extension": ".py",
   "mimetype": "text/x-python",
   "name": "python",
   "nbconvert_exporter": "python",
   "pygments_lexer": "ipython3",
   "version": "3.7.9"
  }
 },
 "nbformat": 4,
 "nbformat_minor": 5
}
