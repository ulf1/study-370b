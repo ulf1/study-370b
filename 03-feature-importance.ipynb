{
 "cells": [
  {
   "cell_type": "markdown",
   "id": "592c2789-5c11-401f-bc4d-20a983117b8f",
   "metadata": {},
   "source": [
    "## Explorative Analysis\n",
    "- [x] preprocess text data with `preprocess.py`"
   ]
  },
  {
   "cell_type": "code",
   "execution_count": 1,
   "id": "6cb686ab-7a72-4845-a12a-2900cb3fd614",
   "metadata": {},
   "outputs": [],
   "source": [
    "import numpy as np\n",
    "import pandas as pd\n",
    "import scipy.stats"
   ]
  },
  {
   "cell_type": "markdown",
   "id": "3c7c343e-48d6-46d4-8afb-81dcaa9b9fcc",
   "metadata": {},
   "source": [
    "### Load data"
   ]
  },
  {
   "cell_type": "code",
   "execution_count": 2,
   "id": "fff10258-0873-440c-be6a-0150375e1cb2",
   "metadata": {},
   "outputs": [],
   "source": [
    "with open('data/preprocessed.npy', 'rb') as fp:\n",
    "    feats1 = np.load(fp)\n",
    "    feats2 = np.load(fp)\n",
    "    feats3 = np.load(fp)\n",
    "    feats4 = np.load(fp)\n",
    "    feats5 = np.load(fp)\n",
    "    feats6 = np.load(fp)\n",
    "    feats7 = np.load(fp)\n",
    "    feats8 = np.load(fp)\n",
    "    feats9 = np.load(fp)"
   ]
  },
  {
   "cell_type": "code",
   "execution_count": 3,
   "id": "5b6d8b8c-bfa2-4cab-87e0-2ba77fdb6264",
   "metadata": {},
   "outputs": [
    {
     "data": {
      "text/plain": [
       "((1000, 384),\n",
       " (1000, 21),\n",
       " (1000, 16),\n",
       " (1000, 47),\n",
       " (1000, 3),\n",
       " (1000, 20),\n",
       " (1000, 6),\n",
       " (1000, 2),\n",
       " (1000, 4))"
      ]
     },
     "execution_count": 3,
     "metadata": {},
     "output_type": "execute_result"
    }
   ],
   "source": [
    "(\n",
    "    feats1.shape, feats2.shape, feats3.shape, feats4.shape, feats5.shape, \n",
    "    feats6.shape, feats7.shape, feats8.shape, feats9.shape\n",
    ")"
   ]
  },
  {
   "cell_type": "code",
   "execution_count": 4,
   "id": "09e7f004-b18f-4faa-9bcf-db6b89c141de",
   "metadata": {},
   "outputs": [],
   "source": [
    "df = pd.read_csv(\"data/ratings.csv\", encoding=\"ISO-8859-1\")\n",
    "texts = df[\"Sentence\"].values\n",
    "y1mos = df[\"MOS_Complexity\"].values\n",
    "y1std = df[\"Std_Complexity\"].values\n",
    "y2mos = df[\"MOS_Understandability\"].values\n",
    "y2std = df[\"Std_Understandability\"].values\n",
    "y3mos = df[\"MOS_Lexical_difficulty\"].values\n",
    "y3std = df[\"Std_Lexical_difficulty\"].values"
   ]
  },
  {
   "cell_type": "code",
   "execution_count": 5,
   "id": "6522a855-e08f-45bb-bb47-78d33d1e7918",
   "metadata": {},
   "outputs": [],
   "source": [
    "y_train = np.c_[y1mos, y2mos, y3mos]\n",
    "# y_train = np.c_[y1mos, y2mos, y3mos, y1std, y2std, y3std]  # not good"
   ]
  },
  {
   "cell_type": "markdown",
   "id": "6c6b5a43-6661-4aed-b2d6-f40aec630458",
   "metadata": {},
   "source": [
    "### Feature Importance : Random Forest"
   ]
  },
  {
   "cell_type": "code",
   "execution_count": 6,
   "id": "49b3f555-be33-4f46-984e-196d01e081a4",
   "metadata": {},
   "outputs": [],
   "source": [
    "import sklearn.ensemble\n",
    "\n",
    "model = sklearn.ensemble.RandomForestRegressor(\n",
    "    n_estimators=100,\n",
    "    max_depth=16,\n",
    "    min_samples_leaf=10,\n",
    "    bootstrap=True, oob_score=True, max_samples=0.5,\n",
    "    random_state=42\n",
    ")"
   ]
  },
  {
   "cell_type": "code",
   "execution_count": 7,
   "id": "c328f170-7662-49bb-9136-ceb36c41f15d",
   "metadata": {},
   "outputs": [],
   "source": [
    "np.random.seed(42)\n",
    "\n",
    "xinputs = np.hstack([\n",
    "    feats1,\n",
    "    feats2, feats3, feats4, feats5, feats6, feats7, feats8, feats9,\n",
    "    np.random.random((feats1.shape[0], 1))\n",
    "])\n",
    "\n",
    "# all\n",
    "xnames = [f\"sbert_{j}\" for j in range(feats1.shape[1])] \\\n",
    "    + [f\"nodedist_{j}\" for j in range(feats2.shape[1])] \\\n",
    "    + [f\"postag_{j}\" for j in range(feats3.shape[1])] \\\n",
    "    + [f\"morphtag_{j}\" for j in range(feats4.shape[1])] \\\n",
    "    + [f\"consonant_{j}\" for j in range(feats5.shape[1])] \\\n",
    "    + [f\"lexemes_{j}\" for j in range(feats6.shape[1])] \\\n",
    "    + [f\"frequency_{j}\" for j in range(feats7.shape[1])] \\\n",
    "    + [f\"length_{j}\" for j in range(feats8.shape[1])] \\\n",
    "    + [f\"bigram_{j}\" for j in range(feats9.shape[1])] \\\n",
    "    + [\"RANDOM\"]\n",
    "\n",
    "# without SBert\n",
    "# xnames = [f\"nodedist_{j}\" for j in range(feats2.shape[1])] \\\n",
    "#     + [f\"postag_{j}\" for j in range(feats3.shape[1])] \\\n",
    "#     + [f\"morphtag_{j}\" for j in range(feats4.shape[1])] \\\n",
    "#     + [f\"consonant_{j}\" for j in range(feats5.shape[1])] \\\n",
    "#     + [f\"lexemes_{j}\" for j in range(feats6.shape[1])] \\\n",
    "#     + [f\"frequency_{j}\" for j in range(feats7.shape[1])] \\\n",
    "#     + [f\"length_{j}\" for j in range(feats8.shape[1])] \\\n",
    "#     + [f\"bigram_{j}\" for j in range(feats9.shape[1])] \\\n",
    "#     + [\"RANDOM\"]\n",
    "\n",
    "# SBert Only\n",
    "# xnames = [f\"sbert_{j}\" for j in range(feats1.shape[1])] + [\"RANDOM\"]\n"
   ]
  },
  {
   "cell_type": "code",
   "execution_count": 8,
   "id": "f47ac25d-ba9b-4639-b753-23ff2ec8c510",
   "metadata": {},
   "outputs": [
    {
     "name": "stdout",
     "output_type": "stream",
     "text": [
      "CPU times: user 8.87 s, sys: 24 ms, total: 8.9 s\n",
      "Wall time: 8.93 s\n"
     ]
    },
    {
     "data": {
      "text/plain": [
       "RandomForestRegressor(max_depth=16, max_samples=0.5, min_samples_leaf=10,\n",
       "                      oob_score=True, random_state=42)"
      ]
     },
     "execution_count": 8,
     "metadata": {},
     "output_type": "execute_result"
    }
   ],
   "source": [
    "%%time\n",
    "model.fit(X=xinputs, y=y_train)"
   ]
  },
  {
   "cell_type": "code",
   "execution_count": 9,
   "id": "8ac57e30-5b1e-409d-b469-cd1239dbc36b",
   "metadata": {},
   "outputs": [
    {
     "name": "stdout",
     "output_type": "stream",
     "text": [
      "R^2: 0.7563259445026507\n",
      "RMSE all: 0.32705008899765414\n",
      "RMSE y_1: 0.28836883243544986\n"
     ]
    }
   ],
   "source": [
    "# R^2 score (1.0 is best)\n",
    "print(f\"R^2: {model.score(X=xinputs, y=y_train)}\")\n",
    "\n",
    "y_pred = model.predict(xinputs)\n",
    "print(f\"RMSE all: {np.power(y_pred - y_train, 2).mean()}\")\n",
    "print(f\"RMSE y_1: {np.power(y_pred[:, 0] - y_train[:, 0], 2).mean()}\")"
   ]
  },
  {
   "cell_type": "code",
   "execution_count": 10,
   "id": "771acfc5-bd8e-4e7b-9975-74429e40b075",
   "metadata": {},
   "outputs": [],
   "source": [
    "df_fi = pd.DataFrame(index=xnames, data=model.feature_importances_, columns=[\"fi\"])\n",
    "df_fi = df_fi.sort_values(by=\"fi\", ascending=False)\n",
    "cutoff = df_fi.loc[\"RANDOM\"].values[0]"
   ]
  },
  {
   "cell_type": "code",
   "execution_count": 11,
   "id": "d13e2955-a6e3-404c-958c-98ffab6e3eb6",
   "metadata": {},
   "outputs": [
    {
     "data": {
      "text/plain": [
       "(437, 0.8670634920634921)"
      ]
     },
     "execution_count": 11,
     "metadata": {},
     "output_type": "execute_result"
    }
   ],
   "source": [
    "selected = df_fi[df_fi[\"fi\"] > cutoff]\n",
    "# num = len([c for c in selected.index if \"sbert_\" in c]) \n",
    "num = len(selected)\n",
    "num, num / len(df_fi)"
   ]
  },
  {
   "cell_type": "code",
   "execution_count": 12,
   "id": "6ae2408e-3c1c-4c85-b449-52dc2a4a2ea6",
   "metadata": {},
   "outputs": [
    {
     "data": {
      "text/plain": [
       "(67, 0.13293650793650794)"
      ]
     },
     "execution_count": 12,
     "metadata": {},
     "output_type": "execute_result"
    }
   ],
   "source": [
    "dropped = df_fi[df_fi[\"fi\"] <= cutoff]\n",
    "# num = len([c for c in dropped.index if \"sbert_\" in c])\n",
    "num = len(dropped)\n",
    "num, num / len(df_fi)"
   ]
  },
  {
   "cell_type": "code",
   "execution_count": 13,
   "id": "386bd535-ed11-4c10-8d5d-902e3a4caadb",
   "metadata": {},
   "outputs": [
    {
     "name": "stdout",
     "output_type": "stream",
     "text": [
      "R^2: 0.7208961656463994\n",
      "RMSE all: 0.37524443863173307\n",
      "RMSE y_1: 0.34186694269033346\n"
     ]
    }
   ],
   "source": [
    "model2 = sklearn.ensemble.RandomForestRegressor(\n",
    "    n_estimators=100,\n",
    "    max_depth=16,\n",
    "    min_samples_leaf=10,\n",
    "    bootstrap=True, oob_score=True, max_samples=0.5,\n",
    "    random_state=42\n",
    ")\n",
    "\n",
    "mask = (df_fi[\"fi\"] > cutoff).values\n",
    "model2.fit(X=xinputs[:, mask], y=y_train)\n",
    "\n",
    "print(f\"R^2: {model2.score(X=xinputs[:, mask], y=y_train)}\")\n",
    "y_pred = model2.predict(xinputs[:, mask])\n",
    "print(f\"RMSE all: {np.power(y_pred - y_train, 2).mean()}\")\n",
    "print(f\"RMSE y_1: {np.power(y_pred[:, 0] - y_train[:, 0], 2).mean()}\")"
   ]
  },
  {
   "cell_type": "code",
   "execution_count": 14,
   "id": "39ecf9ba-cf11-48e9-8d23-ed0653e46168",
   "metadata": {},
   "outputs": [
    {
     "name": "stdout",
     "output_type": "stream",
     "text": [
      "  93.49%\n",
      "  80.95%\n",
      "  68.75%\n",
      "  40.43%\n",
      " 100.00%\n",
      "  80.00%\n",
      " 100.00%\n",
      " 100.00%\n",
      " 100.00%\n"
     ]
    }
   ],
   "source": [
    "print(f\"{100 * len([c for c in selected.index if 'sbert_' in c]) / feats1.shape[1] : 7.2f}%\")\n",
    "print(f\"{100 * len([c for c in selected.index if 'nodedist_' in c]) / feats2.shape[1] : 7.2f}%\")\n",
    "print(f\"{100 * len([c for c in selected.index if 'postag_' in c]) / feats3.shape[1] : 7.2f}%\")\n",
    "print(f\"{100 * len([c for c in selected.index if 'morphtag_' in c]) / feats4.shape[1] : 7.2f}%\")\n",
    "print(f\"{100 * len([c for c in selected.index if 'consonant_' in c]) / feats5.shape[1] : 7.2f}%\")\n",
    "print(f\"{100 * len([c for c in selected.index if 'lexemes_' in c]) / feats6.shape[1] : 7.2f}%\")\n",
    "print(f\"{100 * len([c for c in selected.index if 'frequency_' in c]) / feats7.shape[1] : 7.2f}%\")\n",
    "print(f\"{100 * len([c for c in selected.index if 'length_' in c]) / feats8.shape[1] : 7.2f}%\")\n",
    "print(f\"{100 * len([c for c in selected.index if 'bigram_' in c]) / feats9.shape[1] : 7.2f}%\")"
   ]
  },
  {
   "cell_type": "markdown",
   "id": "a0859a8f-82b6-4bfc-ab63-e6eaee5eb101",
   "metadata": {},
   "source": [
    "Results [y1,y2,3]\n",
    "- [x] all: r2=0.7563259445026507, selected=437, dropped=67, reduced=0.7208961656463994\n",
    "- [x] Without SBert: r2=0.7078522887174549, selected=51, dropped=69, reduced=0.6226863472323011\n",
    "- [x] SBert Only: r2=0.6136377682314099, selected=214, dropped=171, reduced=0.5900620624883309\n",
    "\n",
    "Results RMSE y_1\n",
    "- [x] without std: RMSE=0.28836883243544986, reduced=0.34186694269033346\n",
    "- [x] with std: RMSE=0.29265417823113765, reduced=0.575173784933369"
   ]
  },
  {
   "cell_type": "code",
   "execution_count": 15,
   "id": "742e8b4d-fe73-4228-9e12-e8b01ba1afff",
   "metadata": {},
   "outputs": [],
   "source": [
    "# string length is the single most important feature\n",
    "# selected.head(10)"
   ]
  },
  {
   "cell_type": "code",
   "execution_count": 16,
   "id": "2b000892-efd8-4f51-b827-b352af580286",
   "metadata": {},
   "outputs": [
    {
     "data": {
      "text/html": [
       "<div>\n",
       "<style scoped>\n",
       "    .dataframe tbody tr th:only-of-type {\n",
       "        vertical-align: middle;\n",
       "    }\n",
       "\n",
       "    .dataframe tbody tr th {\n",
       "        vertical-align: top;\n",
       "    }\n",
       "\n",
       "    .dataframe thead th {\n",
       "        text-align: right;\n",
       "    }\n",
       "</style>\n",
       "<table border=\"1\" class=\"dataframe\">\n",
       "  <thead>\n",
       "    <tr style=\"text-align: right;\">\n",
       "      <th></th>\n",
       "      <th>fi</th>\n",
       "    </tr>\n",
       "  </thead>\n",
       "  <tbody>\n",
       "    <tr>\n",
       "      <th>length_1</th>\n",
       "      <td>0.604292</td>\n",
       "    </tr>\n",
       "    <tr>\n",
       "      <th>frequency_2</th>\n",
       "      <td>0.015181</td>\n",
       "    </tr>\n",
       "    <tr>\n",
       "      <th>bigram_0</th>\n",
       "      <td>0.005832</td>\n",
       "    </tr>\n",
       "    <tr>\n",
       "      <th>postag_11</th>\n",
       "      <td>0.005643</td>\n",
       "    </tr>\n",
       "    <tr>\n",
       "      <th>length_0</th>\n",
       "      <td>0.004229</td>\n",
       "    </tr>\n",
       "    <tr>\n",
       "      <th>morphtag_37</th>\n",
       "      <td>0.003366</td>\n",
       "    </tr>\n",
       "    <tr>\n",
       "      <th>bigram_2</th>\n",
       "      <td>0.002851</td>\n",
       "    </tr>\n",
       "    <tr>\n",
       "      <th>bigram_1</th>\n",
       "      <td>0.002799</td>\n",
       "    </tr>\n",
       "    <tr>\n",
       "      <th>bigram_3</th>\n",
       "      <td>0.002039</td>\n",
       "    </tr>\n",
       "    <tr>\n",
       "      <th>postag_14</th>\n",
       "      <td>0.001793</td>\n",
       "    </tr>\n",
       "  </tbody>\n",
       "</table>\n",
       "</div>"
      ],
      "text/plain": [
       "                   fi\n",
       "length_1     0.604292\n",
       "frequency_2  0.015181\n",
       "bigram_0     0.005832\n",
       "postag_11    0.005643\n",
       "length_0     0.004229\n",
       "morphtag_37  0.003366\n",
       "bigram_2     0.002851\n",
       "bigram_1     0.002799\n",
       "bigram_3     0.002039\n",
       "postag_14    0.001793"
      ]
     },
     "execution_count": 16,
     "metadata": {},
     "output_type": "execute_result"
    }
   ],
   "source": [
    "mask = [s for s in selected.index if \"sbert\" not in s]\n",
    "selected.loc[mask].head(10)"
   ]
  },
  {
   "cell_type": "code",
   "execution_count": 17,
   "id": "7ef465a0-c115-456a-ba12-a380c230f178",
   "metadata": {},
   "outputs": [],
   "source": [
    "# [c for c in selected.index if 'frequency_' in c]\n",
    "# plt.hist(feats8[:,0]);"
   ]
  },
  {
   "cell_type": "code",
   "execution_count": 18,
   "id": "92d842db-267e-4ece-abb2-8b8f37757dc3",
   "metadata": {},
   "outputs": [
    {
     "data": {
      "text/html": [
       "<div>\n",
       "<style scoped>\n",
       "    .dataframe tbody tr th:only-of-type {\n",
       "        vertical-align: middle;\n",
       "    }\n",
       "\n",
       "    .dataframe tbody tr th {\n",
       "        vertical-align: top;\n",
       "    }\n",
       "\n",
       "    .dataframe thead th {\n",
       "        text-align: right;\n",
       "    }\n",
       "</style>\n",
       "<table border=\"1\" class=\"dataframe\">\n",
       "  <thead>\n",
       "    <tr style=\"text-align: right;\">\n",
       "      <th></th>\n",
       "      <th>fi</th>\n",
       "    </tr>\n",
       "  </thead>\n",
       "  <tbody>\n",
       "    <tr>\n",
       "      <th>consonant_2</th>\n",
       "      <td>0.000701</td>\n",
       "    </tr>\n",
       "    <tr>\n",
       "      <th>consonant_1</th>\n",
       "      <td>0.000420</td>\n",
       "    </tr>\n",
       "    <tr>\n",
       "      <th>consonant_0</th>\n",
       "      <td>0.000283</td>\n",
       "    </tr>\n",
       "    <tr>\n",
       "      <th>RANDOM</th>\n",
       "      <td>0.000093</td>\n",
       "    </tr>\n",
       "  </tbody>\n",
       "</table>\n",
       "</div>"
      ],
      "text/plain": [
       "                   fi\n",
       "consonant_2  0.000701\n",
       "consonant_1  0.000420\n",
       "consonant_0  0.000283\n",
       "RANDOM       0.000093"
      ]
     },
     "execution_count": 18,
     "metadata": {},
     "output_type": "execute_result"
    }
   ],
   "source": [
    "mask = [\"consonant\" in i or \"RANDOM\" == i for i in df_fi.index]\n",
    "df_fi[mask]"
   ]
  },
  {
   "cell_type": "code",
   "execution_count": 19,
   "id": "f4c3f126-c20e-4505-864d-93bd25dc5a7d",
   "metadata": {},
   "outputs": [
    {
     "data": {
      "text/html": [
       "<div>\n",
       "<style scoped>\n",
       "    .dataframe tbody tr th:only-of-type {\n",
       "        vertical-align: middle;\n",
       "    }\n",
       "\n",
       "    .dataframe tbody tr th {\n",
       "        vertical-align: top;\n",
       "    }\n",
       "\n",
       "    .dataframe thead th {\n",
       "        text-align: right;\n",
       "    }\n",
       "</style>\n",
       "<table border=\"1\" class=\"dataframe\">\n",
       "  <thead>\n",
       "    <tr style=\"text-align: right;\">\n",
       "      <th></th>\n",
       "      <th>fi</th>\n",
       "    </tr>\n",
       "  </thead>\n",
       "  <tbody>\n",
       "    <tr>\n",
       "      <th>length_1</th>\n",
       "      <td>0.604292</td>\n",
       "    </tr>\n",
       "    <tr>\n",
       "      <th>length_0</th>\n",
       "      <td>0.004229</td>\n",
       "    </tr>\n",
       "    <tr>\n",
       "      <th>RANDOM</th>\n",
       "      <td>0.000093</td>\n",
       "    </tr>\n",
       "  </tbody>\n",
       "</table>\n",
       "</div>"
      ],
      "text/plain": [
       "                fi\n",
       "length_1  0.604292\n",
       "length_0  0.004229\n",
       "RANDOM    0.000093"
      ]
     },
     "execution_count": 19,
     "metadata": {},
     "output_type": "execute_result"
    }
   ],
   "source": [
    "mask = [\"length\" in i or \"RANDOM\" == i for i in df_fi.index]\n",
    "df_fi[mask]"
   ]
  },
  {
   "cell_type": "code",
   "execution_count": 20,
   "id": "205a4282-7499-4823-b96c-04e495cbf40e",
   "metadata": {},
   "outputs": [
    {
     "data": {
      "text/html": [
       "<div>\n",
       "<style scoped>\n",
       "    .dataframe tbody tr th:only-of-type {\n",
       "        vertical-align: middle;\n",
       "    }\n",
       "\n",
       "    .dataframe tbody tr th {\n",
       "        vertical-align: top;\n",
       "    }\n",
       "\n",
       "    .dataframe thead th {\n",
       "        text-align: right;\n",
       "    }\n",
       "</style>\n",
       "<table border=\"1\" class=\"dataframe\">\n",
       "  <thead>\n",
       "    <tr style=\"text-align: right;\">\n",
       "      <th></th>\n",
       "      <th>fi</th>\n",
       "    </tr>\n",
       "  </thead>\n",
       "  <tbody>\n",
       "    <tr>\n",
       "      <th>bigram_0</th>\n",
       "      <td>0.005832</td>\n",
       "    </tr>\n",
       "    <tr>\n",
       "      <th>bigram_2</th>\n",
       "      <td>0.002851</td>\n",
       "    </tr>\n",
       "    <tr>\n",
       "      <th>bigram_1</th>\n",
       "      <td>0.002799</td>\n",
       "    </tr>\n",
       "    <tr>\n",
       "      <th>bigram_3</th>\n",
       "      <td>0.002039</td>\n",
       "    </tr>\n",
       "    <tr>\n",
       "      <th>RANDOM</th>\n",
       "      <td>0.000093</td>\n",
       "    </tr>\n",
       "  </tbody>\n",
       "</table>\n",
       "</div>"
      ],
      "text/plain": [
       "                fi\n",
       "bigram_0  0.005832\n",
       "bigram_2  0.002851\n",
       "bigram_1  0.002799\n",
       "bigram_3  0.002039\n",
       "RANDOM    0.000093"
      ]
     },
     "execution_count": 20,
     "metadata": {},
     "output_type": "execute_result"
    }
   ],
   "source": [
    "mask = [\"bigram\" in i or \"RANDOM\" == i for i in df_fi.index]\n",
    "df_fi[mask]"
   ]
  },
  {
   "cell_type": "code",
   "execution_count": 21,
   "id": "c83abec0-ba72-4a05-936a-f812720d4b5a",
   "metadata": {},
   "outputs": [],
   "source": [
    "# mask = [\"lexeme\" in i or \"RANDOM\" == i for i in df_fi.index]\n",
    "# df_fi[mask]"
   ]
  },
  {
   "cell_type": "code",
   "execution_count": 22,
   "id": "4b7f3797-558e-441c-8cab-5c1bf3133a50",
   "metadata": {},
   "outputs": [],
   "source": [
    "# mask = [\"morphtag\" in i or \"RANDOM\" == i for i in df_fi.index]\n",
    "# df_fi[mask]"
   ]
  },
  {
   "cell_type": "code",
   "execution_count": 23,
   "id": "afdfe372-6730-40de-b2ef-fa9fb48dd106",
   "metadata": {},
   "outputs": [],
   "source": [
    "# MORPHTAGS = ['PunctType=Brck', 'PunctType=Comm', 'PunctType=Peri', 'AdpType=Post', 'AdpType=Prep', 'AdpType=Circ', 'PartType=Res', 'PartType=Vbp', 'PartType=Inf', 'PronType=Art', 'PronType=Dem', 'PronType=Ind', 'PronType=Prs', 'PronType=Rel', 'PronType=Int', 'ConjType=Comp', 'Foreign=Yes', 'Hyph=Yes', 'NumType=Card', 'Polarity=Neg', 'Poss=Yes', 'Reflex=Yes', 'Variant=Short', 'VerbForm=Fin', 'VerbForm=Inf', 'VerbForm=Part', 'Mood=Ind', 'Mood=Imp', 'Aspect=Perf', 'VerbType=Mod', 'Gender=Fem', 'Gender=Masc', 'Gender=Neut', 'Number=Sing', 'Number=Plur', 'Person=1', 'Person=2', 'Person=3', 'Case=Nom', 'Case=Dat', 'Case=Gen', 'Case=Acc', 'Degree=Pos', 'Degree=Cmp', 'Degree=Sup', 'Tense=Pres', 'Tense=Past']\n",
    "# idx = [int(c.split(\"_\")[1]) for c in dropped.index if 'morphtag_' in c]\n",
    "# np.array(MORPHTAGS)[idx]"
   ]
  },
  {
   "cell_type": "code",
   "execution_count": null,
   "id": "200185d6-3a3f-4304-b2fd-f8117866ae9b",
   "metadata": {},
   "outputs": [],
   "source": []
  }
 ],
 "metadata": {
  "kernelspec": {
   "display_name": "Python 3 (ipykernel)",
   "language": "python",
   "name": "python3"
  },
  "language_info": {
   "codemirror_mode": {
    "name": "ipython",
    "version": 3
   },
   "file_extension": ".py",
   "mimetype": "text/x-python",
   "name": "python",
   "nbconvert_exporter": "python",
   "pygments_lexer": "ipython3",
   "version": "3.7.9"
  }
 },
 "nbformat": 4,
 "nbformat_minor": 5
}
