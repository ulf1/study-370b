{
 "cells": [
  {
   "cell_type": "code",
   "execution_count": 1,
   "id": "78ddf784-4955-4bd2-a1ed-5c98a2b245de",
   "metadata": {},
   "outputs": [],
   "source": [
    "%%capture\n",
    "from featureeng import preprocessing"
   ]
  },
  {
   "cell_type": "code",
   "execution_count": 2,
   "id": "e6fa8a1e-194c-444a-b4f1-944564a4d8e7",
   "metadata": {},
   "outputs": [],
   "source": [
    "import pandas as pd\n",
    "import numpy as np\n",
    "import tensorflow as tf\n",
    "import gc\n",
    "import scipy.stats\n",
    "\n",
    "import matplotlib.pyplot as plt\n",
    "%matplotlib inline"
   ]
  },
  {
   "cell_type": "markdown",
   "id": "71ac863f-1ae6-436e-a1a1-fdf9d74da853",
   "metadata": {},
   "source": [
    "## Load Dataset"
   ]
  },
  {
   "cell_type": "code",
   "execution_count": 3,
   "id": "4ae16e62-e495-49f6-a149-16a01ccd132a",
   "metadata": {},
   "outputs": [
    {
     "data": {
      "text/plain": [
       "4"
      ]
     },
     "execution_count": 3,
     "metadata": {},
     "output_type": "execute_result"
    }
   ],
   "source": [
    "# Load the raw data\n",
    "df = pd.read_csv(\"data/ratings.csv\", encoding=\"ISO-8859-1\")\n",
    "# df = df[:20]\n",
    "# Input- & Output-Variables\n",
    "texts = df[\"Sentence\"].values \n",
    "y1mos = df[\"MOS_Complexity\"].values\n",
    "y1std = df[\"Std_Complexity\"].values\n",
    "y2mos = df[\"MOS_Understandability\"].values\n",
    "y2std = df[\"Std_Understandability\"].values\n",
    "y3mos = df[\"MOS_Lexical_difficulty\"].values\n",
    "y3std = df[\"Std_Lexical_difficulty\"].values\n",
    "# free memory\n",
    "del df\n",
    "gc.collect()"
   ]
  },
  {
   "cell_type": "markdown",
   "id": "968cf768-f9c4-4e5a-8295-139ada8e77d2",
   "metadata": {},
   "source": [
    "## Feature Engineering\n",
    "approx 1 hr."
   ]
  },
  {
   "cell_type": "code",
   "execution_count": 4,
   "id": "455234df-ff32-45a4-97be-48e28d128b6d",
   "metadata": {},
   "outputs": [
    {
     "name": "stdout",
     "output_type": "stream",
     "text": [
      "CPU times: user 51min 55s, sys: 5min 14s, total: 57min 9s\n",
      "Wall time: 50min 41s\n"
     ]
    }
   ],
   "source": [
    "%%time\n",
    "feats1, feats2, feats3, feats4, feats5, feats6 = preprocessing(texts)"
   ]
  },
  {
   "cell_type": "code",
   "execution_count": 5,
   "id": "4ae2c504-5a9c-4daf-a8fc-273073294294",
   "metadata": {},
   "outputs": [
    {
     "data": {
      "text/plain": [
       "((1000, 384), (1000, 21), (1000, 56), (1000, 38), (1000, 3), (1000, 20))"
      ]
     },
     "execution_count": 5,
     "metadata": {},
     "output_type": "execute_result"
    }
   ],
   "source": [
    "feats1.shape, feats2.shape, feats3.shape, feats4.shape, feats5.shape, feats6.shape"
   ]
  },
  {
   "cell_type": "code",
   "execution_count": 6,
   "id": "113b6641-a573-4078-80ba-616d0693d4dc",
   "metadata": {},
   "outputs": [],
   "source": [
    "xrnd1 = np.random.random(size=feats1.shape)\n",
    "xrnd1 = (xrnd1.T / xrnd1.sum(axis=1)).T\n",
    "\n",
    "xrnd2 = np.random.random(size=feats2.shape)\n",
    "xrnd2 = (xrnd2.T / xrnd2.sum(axis=1)).T\n",
    "\n",
    "xrnd3 = np.random.random(size=feats3.shape)\n",
    "xrnd3 = (xrnd3.T / xrnd3.sum(axis=1)).T\n",
    "\n",
    "xrnd4 = np.random.random(size=feats4.shape)\n",
    "xrnd4 = (xrnd4.T / xrnd4.sum(axis=1)).T\n",
    "\n",
    "xrnd5 = np.random.random(size=feats5.shape)\n",
    "xrnd5 = (xrnd5.T / xrnd5.sum(axis=1)).T\n",
    "\n",
    "xrnd6 = np.random.random(size=feats6.shape)\n",
    "xrnd6 = (xrnd6.T / xrnd6.sum(axis=1)).T"
   ]
  },
  {
   "cell_type": "code",
   "execution_count": 7,
   "id": "1c0df829-9729-4b1e-8567-b7539cc9cd5c",
   "metadata": {},
   "outputs": [
    {
     "data": {
      "text/plain": [
       "((1000, 522),\n",
       " (1000, 522),\n",
       " (1000, 522),\n",
       " (1000, 522),\n",
       " (1000, 522),\n",
       " (1000, 522),\n",
       " (1000, 522))"
      ]
     },
     "execution_count": 7,
     "metadata": {},
     "output_type": "execute_result"
    }
   ],
   "source": [
    "xinputs0 = np.hstack([feats1, feats2, feats3, feats4, feats5, feats6])\n",
    "xinputs1 = np.hstack([xrnd1, feats2, feats3, feats4, feats5, feats6])\n",
    "xinputs2 = np.hstack([feats1, xrnd2, feats3, feats4, feats5, feats6])\n",
    "xinputs3 = np.hstack([feats1, feats2, xrnd3, feats4, feats5, feats6])\n",
    "xinputs4 = np.hstack([feats1, feats2, feats3, xrnd4, feats5, feats6])\n",
    "xinputs5 = np.hstack([feats1, feats2, feats3, feats4, xrnd5, feats6])\n",
    "xinputs6 = np.hstack([feats1, feats2, feats3, feats4, feats5, xrnd6])\n",
    "\n",
    "xinputs0.shape, xinputs1.shape, xinputs2.shape, xinputs3.shape, xinputs4.shape, xinputs5.shape, xinputs6.shape"
   ]
  },
  {
   "cell_type": "markdown",
   "id": "f5775e2c-5dc4-4c1f-a8c2-baf90916c82d",
   "metadata": {},
   "source": [
    "## Load Model"
   ]
  },
  {
   "cell_type": "code",
   "execution_count": 8,
   "id": "cbd14c83-d392-4aeb-90a7-afabc708f9ad",
   "metadata": {},
   "outputs": [
    {
     "name": "stderr",
     "output_type": "stream",
     "text": [
      "2022-06-13 20:12:41.352683: I tensorflow/core/platform/cpu_feature_guard.cc:151] This TensorFlow binary is optimized with oneAPI Deep Neural Network Library (oneDNN) to use the following CPU instructions in performance-critical operations:  AVX2 FMA\n",
      "To enable them in other operations, rebuild TensorFlow with the appropriate compiler flags.\n"
     ]
    }
   ],
   "source": [
    "model = tf.keras.models.load_model(\n",
    "    \"best-model-370c-1-1\", compile=False)"
   ]
  },
  {
   "cell_type": "markdown",
   "id": "7dafd02a-fd35-47da-b6e6-2e29305687b8",
   "metadata": {},
   "source": [
    "## Inference"
   ]
  },
  {
   "cell_type": "code",
   "execution_count": 9,
   "id": "6e827016-eb36-4afa-aa1c-1207019e39f4",
   "metadata": {},
   "outputs": [],
   "source": [
    "y0_pred = model.predict(xinputs0)\n",
    "y0 = y0_pred['mos']\n",
    "\n",
    "y1_pred = model.predict(xinputs1)\n",
    "y1 = y1_pred['mos']\n",
    "\n",
    "y2_pred = model.predict(xinputs2)\n",
    "y2 = y2_pred['mos']\n",
    "\n",
    "y3_pred = model.predict(xinputs3)\n",
    "y3 = y3_pred['mos']\n",
    "\n",
    "y4_pred = model.predict(xinputs4)\n",
    "y4 = y4_pred['mos']\n",
    "\n",
    "y5_pred = model.predict(xinputs5)\n",
    "y5 = y5_pred['mos']\n",
    "\n",
    "y6_pred = model.predict(xinputs6)\n",
    "y6 = y6_pred['mos']"
   ]
  },
  {
   "cell_type": "markdown",
   "id": "a16f017b-1fae-4588-bb3a-266bdb0cadd3",
   "metadata": {},
   "source": [
    "## Loss Functions"
   ]
  },
  {
   "cell_type": "code",
   "execution_count": 32,
   "id": "70b9f41f-aa57-46e8-8d09-1499b0036b5c",
   "metadata": {},
   "outputs": [
    {
     "name": "stdout",
     "output_type": "stream",
     "text": [
      " Complexity | Understandability | Lexical\n",
      "  semantic: 0.694  0.986  0.996\n",
      "    syntax: 2.273  1.333  1.138\n",
      "  pos tags: 0.103  0.089  0.066\n",
      "morph tags: 0.085  0.172  0.085\n",
      " phonetics: 0.301  0.191  0.360\n",
      " morphemes: 0.130  0.313  0.146\n"
     ]
    }
   ],
   "source": [
    "l0 = np.power(np.c_[y1mos, y2mos, y3mos] - y0, 2).mean(axis=0)\n",
    "l1 = np.power(np.c_[y1mos, y2mos, y3mos] - y1, 2).mean(axis=0)\n",
    "l2 = np.power(np.c_[y1mos, y2mos, y3mos] - y2, 2).mean(axis=0)\n",
    "l3 = np.power(np.c_[y1mos, y2mos, y3mos] - y3, 2).mean(axis=0)\n",
    "l4 = np.power(np.c_[y1mos, y2mos, y3mos] - y4, 2).mean(axis=0)\n",
    "l5 = np.power(np.c_[y1mos, y2mos, y3mos] - y5, 2).mean(axis=0)\n",
    "l6 = np.power(np.c_[y1mos, y2mos, y3mos] - y6, 2).mean(axis=0)\n",
    "\n",
    "print(\" Complexity | Understandability | Lexical\")\n",
    "print(\"  semantic: \" + '  '.join([f\"{x:5.3f}\" for x in l1 - l0]))\n",
    "print(\"    syntax: \" + '  '.join([f\"{x:5.3f}\" for x in l2 - l0]))\n",
    "print(\"  pos tags: \" + '  '.join([f\"{x:5.3f}\" for x in l3 - l0]))\n",
    "print(\"morph tags: \" + '  '.join([f\"{x:5.3f}\" for x in l4 - l0]))\n",
    "print(\" phonetics: \" + '  '.join([f\"{x:5.3f}\" for x in l5 - l0]))\n",
    "print(\" morphemes: \" + '  '.join([f\"{x:5.3f}\" for x in l6 - l0]))"
   ]
  },
  {
   "cell_type": "markdown",
   "id": "d9b6f476-c139-4a52-955f-13e01fc142b2",
   "metadata": {},
   "source": [
    "### Correlations"
   ]
  },
  {
   "cell_type": "code",
   "execution_count": 11,
   "id": "84f3d11d-7695-4f8f-ac79-4b8019ca0e0a",
   "metadata": {},
   "outputs": [
    {
     "data": {
      "text/plain": [
       "array([[1.        , 0.89598348, 0.90518689],\n",
       "       [0.89598348, 1.        , 0.93461015],\n",
       "       [0.90518689, 0.93461015, 1.        ]])"
      ]
     },
     "execution_count": 11,
     "metadata": {},
     "output_type": "execute_result"
    }
   ],
   "source": [
    "np.corrcoef(np.c_[y1mos, y2mos, y3mos], rowvar=False)"
   ]
  },
  {
   "cell_type": "code",
   "execution_count": 12,
   "id": "07807175-a538-4e90-a37e-8ebf6388c023",
   "metadata": {},
   "outputs": [
    {
     "data": {
      "text/plain": [
       "array([[1.        , 0.8985984 , 0.90813378],\n",
       "       [0.8985984 , 1.        , 0.93350992],\n",
       "       [0.90813378, 0.93350992, 1.        ]])"
      ]
     },
     "execution_count": 12,
     "metadata": {},
     "output_type": "execute_result"
    }
   ],
   "source": [
    "np.corrcoef(y0, rowvar=False)"
   ]
  },
  {
   "cell_type": "code",
   "execution_count": 13,
   "id": "6d8b9c29-2374-4318-8509-e5adb0702e6c",
   "metadata": {},
   "outputs": [
    {
     "data": {
      "text/plain": [
       "array([[ 0.    , -0.012 ,  0.0289],\n",
       "       [-0.012 ,  0.    , -0.0429],\n",
       "       [ 0.0289, -0.0429,  0.    ]])"
      ]
     },
     "execution_count": 13,
     "metadata": {},
     "output_type": "execute_result"
    }
   ],
   "source": [
    "# semantic\n",
    "(np.corrcoef(y1, rowvar=False) - np.corrcoef(y0, rowvar=False)).round(4)"
   ]
  },
  {
   "cell_type": "code",
   "execution_count": 14,
   "id": "2fbf087e-7707-49e6-9530-29c387fd9823",
   "metadata": {},
   "outputs": [
    {
     "data": {
      "text/plain": [
       "array([[ 0.    , -0.1709, -0.1549],\n",
       "       [-0.1709,  0.    , -0.1442],\n",
       "       [-0.1549, -0.1442,  0.    ]])"
      ]
     },
     "execution_count": 14,
     "metadata": {},
     "output_type": "execute_result"
    }
   ],
   "source": [
    "# syntactic (node vs token distance)\n",
    "(np.corrcoef(y2, rowvar=False) - np.corrcoef(y0, rowvar=False)).round(4)"
   ]
  },
  {
   "cell_type": "code",
   "execution_count": 15,
   "id": "0ba5fff9-8f08-4055-995a-ca53c1bb46ab",
   "metadata": {},
   "outputs": [
    {
     "data": {
      "text/plain": [
       "array([[ 0.    , -0.0213, -0.0211],\n",
       "       [-0.0213,  0.    , -0.0254],\n",
       "       [-0.0211, -0.0254, -0.    ]])"
      ]
     },
     "execution_count": 15,
     "metadata": {},
     "output_type": "execute_result"
    }
   ],
   "source": [
    "# pos tags\n",
    "(np.corrcoef(y3, rowvar=False) - np.corrcoef(y0, rowvar=False)).round(4)"
   ]
  },
  {
   "cell_type": "code",
   "execution_count": 16,
   "id": "9e937ae1-93e9-4ab6-88d2-6353b90009e9",
   "metadata": {},
   "outputs": [
    {
     "data": {
      "text/plain": [
       "array([[ 0.    , -0.0177, -0.0232],\n",
       "       [-0.0177,  0.    , -0.0258],\n",
       "       [-0.0232, -0.0258,  0.    ]])"
      ]
     },
     "execution_count": 16,
     "metadata": {},
     "output_type": "execute_result"
    }
   ],
   "source": [
    "# morph tags\n",
    "(np.corrcoef(y4, rowvar=False) - np.corrcoef(y0, rowvar=False)).round(4)"
   ]
  },
  {
   "cell_type": "code",
   "execution_count": 17,
   "id": "124ad785-d337-453b-a50e-01e627c0d154",
   "metadata": {},
   "outputs": [
    {
     "data": {
      "text/plain": [
       "array([[ 0.    , -0.0337, -0.0453],\n",
       "       [-0.0337,  0.    , -0.03  ],\n",
       "       [-0.0453, -0.03  , -0.    ]])"
      ]
     },
     "execution_count": 17,
     "metadata": {},
     "output_type": "execute_result"
    }
   ],
   "source": [
    "# phonetics (consonant clusters)\n",
    "(np.corrcoef(y5, rowvar=False) - np.corrcoef(y0, rowvar=False)).round(4)"
   ]
  },
  {
   "cell_type": "code",
   "execution_count": 18,
   "id": "2962aa34-fe56-401e-9201-d7ef203d1f85",
   "metadata": {},
   "outputs": [
    {
     "data": {
      "text/plain": [
       "array([[ 0.    , -0.0271, -0.0232],\n",
       "       [-0.0271,  0.    , -0.0259],\n",
       "       [-0.0232, -0.0259,  0.    ]])"
      ]
     },
     "execution_count": 18,
     "metadata": {},
     "output_type": "execute_result"
    }
   ],
   "source": [
    "# morphemes/lexemes\n",
    "(np.corrcoef(y6, rowvar=False) - np.corrcoef(y0, rowvar=False)).round(4)"
   ]
  }
 ],
 "metadata": {
  "kernelspec": {
   "display_name": "Python 3 (ipykernel)",
   "language": "python",
   "name": "python3"
  },
  "language_info": {
   "codemirror_mode": {
    "name": "ipython",
    "version": 3
   },
   "file_extension": ".py",
   "mimetype": "text/x-python",
   "name": "python",
   "nbconvert_exporter": "python",
   "pygments_lexer": "ipython3",
   "version": "3.7.9"
  }
 },
 "nbformat": 4,
 "nbformat_minor": 5
}
