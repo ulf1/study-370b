{
 "cells": [
  {
   "cell_type": "markdown",
   "id": "592c2789-5c11-401f-bc4d-20a983117b8f",
   "metadata": {},
   "source": [
    "## Noise Targets"
   ]
  },
  {
   "cell_type": "code",
   "execution_count": 1,
   "id": "6cb686ab-7a72-4845-a12a-2900cb3fd614",
   "metadata": {},
   "outputs": [],
   "source": [
    "import numpy as np\n",
    "import pandas as pd\n",
    "import scipy.stats\n",
    "import matplotlib.pyplot as plt\n",
    "%matplotlib inline"
   ]
  },
  {
   "cell_type": "markdown",
   "id": "3c7c343e-48d6-46d4-8afb-81dcaa9b9fcc",
   "metadata": {},
   "source": [
    "### Load data"
   ]
  },
  {
   "cell_type": "code",
   "execution_count": 2,
   "id": "fff10258-0873-440c-be6a-0150375e1cb2",
   "metadata": {},
   "outputs": [],
   "source": [
    "with open('data/preprocessed.npy', 'rb') as fp:\n",
    "    feats1 = np.load(fp)\n",
    "    feats2 = np.load(fp)\n",
    "    feats3 = np.load(fp)\n",
    "    feats4 = np.load(fp)\n",
    "    feats5 = np.load(fp)\n",
    "    feats6 = np.load(fp)\n",
    "    feats7 = np.load(fp)\n",
    "    feats8 = np.load(fp)\n",
    "    feats9 = np.load(fp)"
   ]
  },
  {
   "cell_type": "code",
   "execution_count": 3,
   "id": "5b6d8b8c-bfa2-4cab-87e0-2ba77fdb6264",
   "metadata": {},
   "outputs": [
    {
     "data": {
      "text/plain": [
       "((1000, 384),\n",
       " (1000, 21),\n",
       " (1000, 16),\n",
       " (1000, 47),\n",
       " (1000, 3),\n",
       " (1000, 20),\n",
       " (1000, 6),\n",
       " (1000, 2),\n",
       " (1000, 4))"
      ]
     },
     "execution_count": 3,
     "metadata": {},
     "output_type": "execute_result"
    }
   ],
   "source": [
    "(\n",
    "    feats1.shape, feats2.shape, feats3.shape, feats4.shape, feats5.shape, \n",
    "    feats6.shape, feats7.shape, feats8.shape, feats9.shape\n",
    ")"
   ]
  },
  {
   "cell_type": "code",
   "execution_count": 4,
   "id": "09e7f004-b18f-4faa-9bcf-db6b89c141de",
   "metadata": {},
   "outputs": [],
   "source": [
    "df = pd.read_csv(\"data/ratings.csv\", encoding=\"ISO-8859-1\")\n",
    "texts = df[\"Sentence\"].values\n",
    "y1mos = df[\"MOS_Complexity\"].values\n",
    "y1std = df[\"Std_Complexity\"].values\n",
    "y2mos = df[\"MOS_Understandability\"].values\n",
    "y2std = df[\"Std_Understandability\"].values\n",
    "y3mos = df[\"MOS_Lexical_difficulty\"].values\n",
    "y3std = df[\"Std_Lexical_difficulty\"].values"
   ]
  },
  {
   "cell_type": "code",
   "execution_count": 5,
   "id": "75362f11-a74a-4987-b536-f4b00b4b418b",
   "metadata": {},
   "outputs": [
    {
     "data": {
      "text/plain": [
       "array([[1.        , 0.89598348, 0.90518689],\n",
       "       [0.89598348, 1.        , 0.93461015],\n",
       "       [0.90518689, 0.93461015, 1.        ]])"
      ]
     },
     "execution_count": 5,
     "metadata": {},
     "output_type": "execute_result"
    }
   ],
   "source": [
    "y_train = np.c_[y1mos, y2mos, y3mos]\n",
    "rho = np.corrcoef(y_train, rowvar=False)\n",
    "rho"
   ]
  },
  {
   "cell_type": "markdown",
   "id": "e031e2c9-98c4-4b20-b188-c69df191b84d",
   "metadata": {},
   "source": [
    "### Simulate Targets"
   ]
  },
  {
   "cell_type": "code",
   "execution_count": 22,
   "id": "7cfe0c9e-3ba8-44e4-b436-30e3972dd119",
   "metadata": {},
   "outputs": [
    {
     "data": {
      "text/plain": [
       "array([[1.        , 0.89547545, 0.90450646],\n",
       "       [0.89547545, 1.        , 0.93196886],\n",
       "       [0.90450646, 0.93196886, 1.        ]])"
      ]
     },
     "execution_count": 22,
     "metadata": {},
     "output_type": "execute_result"
    }
   ],
   "source": [
    "def get_random_mos(y1m, y1s, y2m, y2s, y3m, y3s, adjust=1.0, rho=None, corr_trgt=0):\n",
    "    num = 1 if isinstance(y1m, float) else len(y1m)\n",
    "    Y = np.random.standard_normal((num, 3))\n",
    "    Y = adjust * Y\n",
    "    if (rho is not None) and (corr_trgt == 1):\n",
    "        Y = np.dot(Y, np.linalg.cholesky(rho).T)\n",
    "    y1 = np.maximum(1.0, np.minimum(7.0, Y[:, 0] * y1s + y1m))\n",
    "    y2 = np.maximum(1.0, np.minimum(7.0, Y[:, 1] * y2s + y2m))\n",
    "    y3 = np.maximum(1.0, np.minimum(7.0, Y[:, 2] * y3s + y3m))\n",
    "    return y1, y2, y3\n",
    "\n",
    "y1, y2, y3 = get_random_mos(\n",
    "    y1mos, y1std, y2mos, y2std, y3mos, y3std, \n",
    "    adjust=.1, rho=rho, corr_trgt=1)\n",
    "\n",
    "y_sim = np.c_[y1, y2, y3]\n",
    "np.corrcoef(y_sim, rowvar=False)"
   ]
  },
  {
   "cell_type": "code",
   "execution_count": 23,
   "id": "b7c17a4d-2413-472d-997a-a91b27da87f9",
   "metadata": {},
   "outputs": [
    {
     "data": {
      "image/png": "[encoded data removed]",
      "text/plain": [
       "<Figure size 432x288 with 1 Axes>"
      ]
     },
     "metadata": {
      "needs_background": "light"
     },
     "output_type": "display_data"
    }
   ],
   "source": [
    "plt.hist(y_train - y_sim);"
   ]
  },
  {
   "cell_type": "code",
   "execution_count": 24,
   "id": "0d77ce59-cbe7-40f8-ab6d-a4900d6fe322",
   "metadata": {},
   "outputs": [
    {
     "data": {
      "text/plain": [
       "(array([1.90846915]), array([1.86036079]), array([2.59581001]))"
      ]
     },
     "execution_count": 24,
     "metadata": {},
     "output_type": "execute_result"
    }
   ],
   "source": [
    "y1, y2, y3 = get_random_mos(\n",
    "    y1mos[0], y1std[0], y2mos[0], y2std[0], y3mos[0], y3std[0], \n",
    "    adjust=.1, rho=rho, corr_trgt=1)\n",
    "y1, y2, y3"
   ]
  },
  {
   "cell_type": "markdown",
   "id": "7802ca99-e49f-48dc-9cff-216496e1bd78",
   "metadata": {},
   "source": [
    "### Differenc between correlations"
   ]
  },
  {
   "cell_type": "code",
   "execution_count": 8,
   "id": "b8acbfb4-752f-4e9a-a7a6-3feef294fd95",
   "metadata": {},
   "outputs": [],
   "source": [
    "def get_corr(y1, y2, y3, feats):\n",
    "    tmp1, tmp2, tmp3 = [], [], []\n",
    "    for j in range(feats.shape[1]):\n",
    "        rho, _ = scipy.stats.pearsonr(y1, feats[:, j])\n",
    "        tmp1.append(rho)\n",
    "        rho, _ = scipy.stats.pearsonr(y2, feats[:, j])\n",
    "        tmp2.append(rho)\n",
    "        rho, _ = scipy.stats.pearsonr(y3, feats[:, j])\n",
    "        tmp3.append(rho)\n",
    "    return np.c_[tmp1, tmp2, tmp3]"
   ]
  },
  {
   "cell_type": "code",
   "execution_count": 9,
   "id": "37849630-f814-4b20-bff4-8e3b32de200d",
   "metadata": {},
   "outputs": [],
   "source": [
    "adjust = .1\n",
    "num_trials = 30"
   ]
  },
  {
   "cell_type": "code",
   "execution_count": 10,
   "id": "fdeda35f-870f-4ba4-a391-97069ec686ac",
   "metadata": {},
   "outputs": [
    {
     "data": {
      "image/png": "[encoded data removed]",
      "text/plain": [
       "<Figure size 432x288 with 1 Axes>"
      ]
     },
     "metadata": {
      "needs_background": "light"
     },
     "output_type": "display_data"
    },
    {
     "data": {
      "image/png": "[encoded data removed]",
      "text/plain": [
       "<Figure size 432x288 with 1 Axes>"
      ]
     },
     "metadata": {
      "needs_background": "light"
     },
     "output_type": "display_data"
    },
    {
     "data": {
      "image/png": "[encoded data removed]",
      "text/plain": [
       "<Figure size 432x288 with 1 Axes>"
      ]
     },
     "metadata": {
      "needs_background": "light"
     },
     "output_type": "display_data"
    },
    {
     "data": {
      "image/png": "[encoded data removed]",
      "text/plain": [
       "<Figure size 432x288 with 1 Axes>"
      ]
     },
     "metadata": {
      "needs_background": "light"
     },
     "output_type": "display_data"
    },
    {
     "data": {
      "image/png": "[encoded data removed]",
      "text/plain": [
       "<Figure size 432x288 with 1 Axes>"
      ]
     },
     "metadata": {
      "needs_background": "light"
     },
     "output_type": "display_data"
    },
    {
     "data": {
      "image/png": "[encoded data removed]",
      "text/plain": [
       "<Figure size 432x288 with 1 Axes>"
      ]
     },
     "metadata": {
      "needs_background": "light"
     },
     "output_type": "display_data"
    },
    {
     "data": {
      "image/png": "[encoded data removed]",
      "text/plain": [
       "<Figure size 432x288 with 1 Axes>"
      ]
     },
     "metadata": {
      "needs_background": "light"
     },
     "output_type": "display_data"
    },
    {
     "data": {
      "image/png": "[encoded data removed]",
      "text/plain": [
       "<Figure size 432x288 with 1 Axes>"
      ]
     },
     "metadata": {
      "needs_background": "light"
     },
     "output_type": "display_data"
    },
    {
     "data": {
      "image/png": "[encoded data removed]",
      "text/plain": [
       "<Figure size 432x288 with 1 Axes>"
      ]
     },
     "metadata": {
      "needs_background": "light"
     },
     "output_type": "display_data"
    }
   ],
   "source": [
    "tmp0, tmp1 = [], []\n",
    "for i in range(num_trials):\n",
    "    y1, y2, y3 = get_random_mos(\n",
    "        y1mos, y1std, y2mos, y2std, y3mos, y3std, \n",
    "        adjust=adjust, rho=rho, corr_trgt=1)\n",
    "    tmp0.append(get_corr(y1=y1mos, y2=y2mos, y3=y3mos, feats=feats1))\n",
    "    tmp1.append(get_corr(y1=y1, y2=y2, y3=y3, feats=feats1))\n",
    "tmp0 = np.vstack(tmp0)\n",
    "tmp1 = np.vstack(tmp1)\n",
    "plt.hist(tmp0 - tmp1);\n",
    "plt.title(\"semantic\")\n",
    "plt.show();\n",
    "\n",
    "tmp0, tmp1 = [], []\n",
    "for i in range(num_trials):\n",
    "    y1, y2, y3 = get_random_mos(\n",
    "        y1mos, y1std, y2mos, y2std, y3mos, y3std, \n",
    "        adjust=adjust, rho=rho, corr_trgt=1)\n",
    "    tmp0.append(get_corr(y1=y1mos, y2=y2mos, y3=y3mos, feats=feats2))\n",
    "    tmp1.append(get_corr(y1=y1, y2=y2, y3=y3, feats=feats2))\n",
    "tmp0 = np.vstack(tmp0)\n",
    "tmp1 = np.vstack(tmp1)\n",
    "plt.hist(tmp0 - tmp1);\n",
    "plt.title(\"syntax\")\n",
    "plt.show();\n",
    "\n",
    "tmp0, tmp1 = [], []\n",
    "for i in range(num_trials):\n",
    "    y1, y2, y3 = get_random_mos(\n",
    "        y1mos, y1std, y2mos, y2std, y3mos, y3std, \n",
    "        adjust=adjust, rho=rho, corr_trgt=1)\n",
    "    tmp0.append(get_corr(y1=y1mos, y2=y2mos, y3=y3mos, feats=feats3))\n",
    "    tmp1.append(get_corr(y1=y1, y2=y2, y3=y3, feats=feats3))\n",
    "tmp0 = np.vstack(tmp0)\n",
    "tmp1 = np.vstack(tmp1)\n",
    "plt.hist(tmp0 - tmp1);\n",
    "plt.title(\"pos tags\")\n",
    "plt.show();\n",
    "\n",
    "tmp0, tmp1 = [], []\n",
    "for i in range(num_trials):\n",
    "    y1, y2, y3 = get_random_mos(\n",
    "        y1mos, y1std, y2mos, y2std, y3mos, y3std, \n",
    "        adjust=adjust, rho=rho, corr_trgt=1)\n",
    "    tmp0.append(get_corr(y1=y1mos, y2=y2mos, y3=y3mos, feats=feats4))\n",
    "    tmp1.append(get_corr(y1=y1, y2=y2, y3=y3, feats=feats4))\n",
    "tmp0 = np.vstack(tmp0)\n",
    "tmp1 = np.vstack(tmp1)\n",
    "plt.hist(tmp0 - tmp1);\n",
    "plt.title(\"morph tags\")\n",
    "plt.show();\n",
    "\n",
    "tmp0, tmp1 = [], []\n",
    "for i in range(num_trials):\n",
    "    y1, y2, y3 = get_random_mos(\n",
    "        y1mos, y1std, y2mos, y2std, y3mos, y3std, \n",
    "        adjust=adjust, rho=rho, corr_trgt=1)\n",
    "    tmp0.append(get_corr(y1=y1mos, y2=y2mos, y3=y3mos, feats=feats5))\n",
    "    tmp1.append(get_corr(y1=y1, y2=y2, y3=y3, feats=feats5))\n",
    "tmp0 = np.vstack(tmp0)\n",
    "tmp1 = np.vstack(tmp1)\n",
    "plt.hist(tmp0 - tmp1);\n",
    "plt.title(\"phonetics\")\n",
    "plt.show();\n",
    "\n",
    "tmp0, tmp1 = [], []\n",
    "for i in range(num_trials):\n",
    "    y1, y2, y3 = get_random_mos(\n",
    "        y1mos, y1std, y2mos, y2std, y3mos, y3std, \n",
    "        adjust=adjust, rho=rho, corr_trgt=1)\n",
    "    tmp0.append(get_corr(y1=y1mos, y2=y2mos, y3=y3mos, feats=feats6))\n",
    "    tmp1.append(get_corr(y1=y1, y2=y2, y3=y3, feats=feats6))\n",
    "tmp0 = np.vstack(tmp0)\n",
    "tmp1 = np.vstack(tmp1)\n",
    "plt.hist(tmp0 - tmp1);\n",
    "plt.title(\"lexemes\")\n",
    "plt.show();\n",
    "\n",
    "tmp0, tmp1 = [], []\n",
    "for i in range(num_trials):\n",
    "    y1, y2, y3 = get_random_mos(\n",
    "        y1mos, y1std, y2mos, y2std, y3mos, y3std, \n",
    "        adjust=adjust, rho=rho, corr_trgt=1)\n",
    "    tmp0.append(get_corr(y1=y1mos, y2=y2mos, y3=y3mos, feats=feats7))\n",
    "    tmp1.append(get_corr(y1=y1, y2=y2, y3=y3, feats=feats7))\n",
    "tmp0 = np.vstack(tmp0)\n",
    "tmp1 = np.vstack(tmp1)\n",
    "plt.hist(tmp0 - tmp1);\n",
    "plt.title(\"frequency\")\n",
    "plt.show();\n",
    "\n",
    "tmp0, tmp1 = [], []\n",
    "for i in range(num_trials):\n",
    "    y1, y2, y3 = get_random_mos(\n",
    "        y1mos, y1std, y2mos, y2std, y3mos, y3std, \n",
    "        adjust=adjust, rho=rho, corr_trgt=1)\n",
    "    tmp0.append(get_corr(y1=y1mos, y2=y2mos, y3=y3mos, feats=feats8))\n",
    "    tmp1.append(get_corr(y1=y1, y2=y2, y3=y3, feats=feats8))\n",
    "tmp0 = np.vstack(tmp0)\n",
    "tmp1 = np.vstack(tmp1)\n",
    "plt.hist(tmp0 - tmp1);\n",
    "plt.title(\"length\")\n",
    "plt.show();\n",
    "\n",
    "tmp0, tmp1 = [], []\n",
    "for i in range(num_trials):\n",
    "    y1, y2, y3 = get_random_mos(\n",
    "        y1mos, y1std, y2mos, y2std, y3mos, y3std, \n",
    "        adjust=adjust, rho=rho, corr_trgt=1)\n",
    "    tmp0.append(get_corr(y1=y1mos, y2=y2mos, y3=y3mos, feats=feats9))\n",
    "    tmp1.append(get_corr(y1=y1, y2=y2, y3=y3, feats=feats9))\n",
    "tmp0 = np.vstack(tmp0)\n",
    "tmp1 = np.vstack(tmp1)\n",
    "plt.hist(tmp0 - tmp1);\n",
    "plt.title(\"bigram\")\n",
    "plt.show();"
   ]
  },
  {
   "cell_type": "code",
   "execution_count": null,
   "id": "6e7bb576-64b7-4839-8176-77727290a910",
   "metadata": {},
   "outputs": [],
   "source": []
  }
 ],
 "metadata": {
  "kernelspec": {
   "display_name": "Python 3 (ipykernel)",
   "language": "python",
   "name": "python3"
  },
  "language_info": {
   "codemirror_mode": {
    "name": "ipython",
    "version": 3
   },
   "file_extension": ".py",
   "mimetype": "text/x-python",
   "name": "python",
   "nbconvert_exporter": "python",
   "pygments_lexer": "ipython3",
   "version": "3.7.9"
  }
 },
 "nbformat": 4,
 "nbformat_minor": 5
}
